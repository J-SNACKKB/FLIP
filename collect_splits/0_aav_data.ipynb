{
 "cells": [
  {
   "cell_type": "markdown",
   "metadata": {},
   "source": [
    "# Notes\n",
    "\n",
    "- Data taken from here: https://github.com/alibashir/aav (File: allseqs_20191230.csv.zip)\n",
    "- Data exists as well here: https://www.dropbox.com/sh/lmd8wmgibz24r2h/AADmgvc_0Q5mylwgGf97cTC-a/ML_and_Analysis/model_and_dataset_analysis/allseqs_20191230.csv.zip?dl=0\n",
    "- [This repository](https://github.com/google-research/google-research/tree/master/aav/model_training) suggest that the wild type AA sequence is 28 residues and is `DEEEIRTTNPVATEQYGSVSTNLQRGNR`\n",
    "- The UniProt sequence is here: https://www.uniprot.org/uniprot/P03135\n",
    "- In UniProt notation (sequence starts at 1), the region on P03135 where the sequence mutates is `[561, 588]`"
   ]
  },
  {
   "cell_type": "code",
   "execution_count": 1,
   "metadata": {},
   "outputs": [
    {
     "name": "stdout",
     "output_type": "stream",
     "text": [
      "Requirement already satisfied: biopython in /Users/chdallago/miniconda3/envs/bio-benchmarks/lib/python3.8/site-packages (1.78)\n",
      "Requirement already satisfied: numpy in /Users/chdallago/miniconda3/envs/bio-benchmarks/lib/python3.8/site-packages (from biopython) (1.20.2)\n",
      "Requirement already satisfied: pandas in /Users/chdallago/miniconda3/envs/bio-benchmarks/lib/python3.8/site-packages (1.2.4)\n",
      "Requirement already satisfied: python-dateutil>=2.7.3 in /Users/chdallago/miniconda3/envs/bio-benchmarks/lib/python3.8/site-packages (from pandas) (2.8.1)\n",
      "Requirement already satisfied: pytz>=2017.3 in /Users/chdallago/miniconda3/envs/bio-benchmarks/lib/python3.8/site-packages (from pandas) (2021.1)\n",
      "Requirement already satisfied: numpy>=1.16.5 in /Users/chdallago/miniconda3/envs/bio-benchmarks/lib/python3.8/site-packages (from pandas) (1.20.2)\n",
      "Requirement already satisfied: six>=1.5 in /Users/chdallago/miniconda3/envs/bio-benchmarks/lib/python3.8/site-packages (from python-dateutil>=2.7.3->pandas) (1.16.0)\n",
      "Requirement already satisfied: matplotlib in /Users/chdallago/miniconda3/envs/bio-benchmarks/lib/python3.8/site-packages (3.4.2)\n",
      "Requirement already satisfied: kiwisolver>=1.0.1 in /Users/chdallago/miniconda3/envs/bio-benchmarks/lib/python3.8/site-packages (from matplotlib) (1.3.1)\n",
      "Requirement already satisfied: pillow>=6.2.0 in /Users/chdallago/miniconda3/envs/bio-benchmarks/lib/python3.8/site-packages (from matplotlib) (8.2.0)\n",
      "Requirement already satisfied: python-dateutil>=2.7 in /Users/chdallago/miniconda3/envs/bio-benchmarks/lib/python3.8/site-packages (from matplotlib) (2.8.1)\n",
      "Requirement already satisfied: pyparsing>=2.2.1 in /Users/chdallago/miniconda3/envs/bio-benchmarks/lib/python3.8/site-packages (from matplotlib) (2.4.7)\n",
      "Requirement already satisfied: numpy>=1.16 in /Users/chdallago/miniconda3/envs/bio-benchmarks/lib/python3.8/site-packages (from matplotlib) (1.20.2)\n",
      "Requirement already satisfied: cycler>=0.10 in /Users/chdallago/miniconda3/envs/bio-benchmarks/lib/python3.8/site-packages (from matplotlib) (0.10.0)\n",
      "Requirement already satisfied: six in /Users/chdallago/miniconda3/envs/bio-benchmarks/lib/python3.8/site-packages (from cycler>=0.10->matplotlib) (1.16.0)\n",
      "Requirement already satisfied: scikit-learn in /Users/chdallago/miniconda3/envs/bio-benchmarks/lib/python3.8/site-packages (0.24.2)\n",
      "Requirement already satisfied: joblib>=0.11 in /Users/chdallago/miniconda3/envs/bio-benchmarks/lib/python3.8/site-packages (from scikit-learn) (1.0.1)\n",
      "Requirement already satisfied: scipy>=0.19.1 in /Users/chdallago/miniconda3/envs/bio-benchmarks/lib/python3.8/site-packages (from scikit-learn) (1.6.3)\n",
      "Requirement already satisfied: numpy>=1.13.3 in /Users/chdallago/miniconda3/envs/bio-benchmarks/lib/python3.8/site-packages (from scikit-learn) (1.20.2)\n",
      "Requirement already satisfied: threadpoolctl>=2.0.0 in /Users/chdallago/miniconda3/envs/bio-benchmarks/lib/python3.8/site-packages (from scikit-learn) (2.1.0)\n"
     ]
    }
   ],
   "source": [
    "# In order to process the data (and further notebooks, with indices 1_, 2_,..) we need to install some dependencies! \n",
    "!pip install biopython\n",
    "!pip install pandas\n",
    "!pip install matplotlib\n",
    "!pip install scikit-learn"
   ]
  },
  {
   "cell_type": "code",
   "execution_count": 2,
   "metadata": {},
   "outputs": [],
   "source": [
    "import pandas\n",
    "import math\n",
    "import random\n",
    "import numpy\n",
    "\n",
    "from pathlib import Path\n",
    "from pandas import read_csv, DataFrame\n",
    "from sklearn.model_selection import train_test_split\n",
    "\n",
    "from flip import read_fasta, plot_data_statistics, print_positive_stats"
   ]
  },
  {
   "cell_type": "code",
   "execution_count": 3,
   "metadata": {},
   "outputs": [],
   "source": [
    "# By setting a random seed, we make sure that random sampling happens the same way acrosss different runs\n",
    "random.seed(11)"
   ]
  },
  {
   "cell_type": "code",
   "execution_count": 4,
   "metadata": {},
   "outputs": [],
   "source": [
    "# Let's define where the RAW data is and where to store the processed data\n",
    "data_path = Path('') / '..' / 'data' / 'aav'\n",
    "aav_data_path = data_path / 'allseqs_20191230.csv'\n",
    "\n",
    "split_path = Path('') / '..' / 'splits' / 'aav'"
   ]
  },
  {
   "cell_type": "code",
   "execution_count": 5,
   "metadata": {},
   "outputs": [],
   "source": [
    "# Let's load the RAW data\n",
    "aav_data = read_csv(aav_data_path)"
   ]
  },
  {
   "cell_type": "code",
   "execution_count": 6,
   "metadata": {},
   "outputs": [
    {
     "name": "stdout",
     "output_type": "stream",
     "text": [
      "sequence\n",
      "partition\n",
      "mutation_sequence\n",
      "num_mutations\n",
      "num_edits\n",
      "viral_selection\n",
      "is_viable\n"
     ]
    }
   ],
   "source": [
    "# What columns are available in the dataframe?\n",
    "for column_name in aav_data.columns:\n",
    "    print(column_name)"
   ]
  },
  {
   "cell_type": "code",
   "execution_count": 7,
   "metadata": {},
   "outputs": [],
   "source": [
    "# Let's load the wild type protein sequence, and define the region which is mutated in the AAV set\n",
    "P03135 = read_fasta(data_path / 'P03135.fasta')[0]\n",
    "region = (561,588)\n",
    "reference_region = \"DEEEIRTTNPVATEQYGSVSTNLQRGNR\""
   ]
  },
  {
   "cell_type": "code",
   "execution_count": 8,
   "metadata": {},
   "outputs": [],
   "source": [
    "# Get the wild type sequence from the RAW data\n",
    "wt = aav_data[aav_data['partition'] == \"wild_type\"].to_dict(orient='records')[0]"
   ]
  },
  {
   "cell_type": "code",
   "execution_count": 9,
   "metadata": {},
   "outputs": [],
   "source": [
    "# Make sure that the wild type from the RAW data matches the UniProt sequence from P03135\n",
    "assert(wt['sequence'] == reference_region)\n",
    "\n",
    "# Important: region[0] -1 because UniProt notation! (0 in Python == 1 in UniProt)\n",
    "assert(wt['sequence'] == str(P03135[region[0]-1 : region[1]].seq))\n",
    "\n",
    "# Make sure chopping the sequence works as expected:\n",
    "\n",
    "assert(\n",
    "    str(P03135.seq) ==\n",
    "    str(P03135[:region[0]-1].seq) + str(P03135[region[0]-1 : region[1]].seq) + str(P03135[region[1]:].seq)\n",
    ")"
   ]
  },
  {
   "cell_type": "code",
   "execution_count": 10,
   "metadata": {},
   "outputs": [],
   "source": [
    "# Remove data where scores are +/- inf\n",
    "aav_data.replace([math.inf, -math.inf], math.nan, inplace=True)\n",
    "aav_data.dropna(inplace=True)"
   ]
  },
  {
   "cell_type": "markdown",
   "metadata": {},
   "source": [
    "Based on the the manuscript:\n",
    " \n",
    "> To avoid overfitting to experimental noise, rather than predicting the quantitative production efficiency we used binary classification models to predict whether each sequence variant is viable (Supplementary Fig. 1), as defined by a threshold fit to best separate positive and negative controls (WT replicas, and variants containing stop codons, respectively).\n",
    "\n",
    "In other words, by plotting `viral_selection`, one should see a binomial. In order to have a visual verification, let's plot the viral_selection!"
   ]
  },
  {
   "cell_type": "code",
   "execution_count": 11,
   "metadata": {},
   "outputs": [
    {
     "data": {
      "text/plain": [
       "<AxesSubplot:>"
      ]
     },
     "execution_count": 11,
     "metadata": {},
     "output_type": "execute_result"
    },
    {
     "data": {
      "image/png": "[encoded data removed]",
      "text/plain": [
       "<Figure size 432x288 with 1 Axes>"
      ]
     },
     "metadata": {
      "needs_background": "light"
     },
     "output_type": "display_data"
    }
   ],
   "source": [
    "aav_data['viral_selection'].hist(bins=20)"
   ]
  },
  {
   "cell_type": "code",
   "execution_count": 12,
   "metadata": {},
   "outputs": [
    {
     "name": "stdout",
     "output_type": "stream",
     "text": [
      "designed\n",
      "rand\n",
      "single\n",
      "stop\n",
      "cnn_designed_plus_rand_train_walked\n",
      "lr_rand_doubles_plus_single_walked\n",
      "cnn_rand_doubles_plus_single_seed\n",
      "cnn_standard_walked\n",
      "rnn_rand_doubles_plus_singles_seed\n",
      "lr_standard_walked\n",
      "lr_rand_doubles_plus_single_seed\n",
      "lr_designed_plus_rand_train_seed\n",
      "cnn_rand_doubles_plus_single_walked\n",
      "previous_chip_nonviable\n",
      "cnn_designed_plus_rand_train_seed\n",
      "lr_standard_seed\n",
      "rnn_designed_plus_rand_train_walked\n",
      "lr_designed_plus_rand_train_walked\n",
      "random_doubles\n",
      "rnn_standard_seed\n",
      "previous_chip_viable\n",
      "rnn_standard_walked\n",
      "rnn_designed_plus_rand_train_seed\n",
      "cnn_standard_seed\n",
      "rnn_rand_doubles_plus_singles_walked\n",
      "singles\n",
      "wild_type\n"
     ]
    }
   ],
   "source": [
    "# What are the sequence partitions (e.g.: designed via machine learning vs. measured in the lab)\n",
    "for partition in aav_data['partition'].unique():\n",
    "    print(partition)"
   ]
  },
  {
   "cell_type": "code",
   "execution_count": 13,
   "metadata": {},
   "outputs": [
    {
     "data": {
      "text/plain": [
       "designed                                56326\n",
       "random_doubles                          25040\n",
       "rnn_standard_walked                     20838\n",
       "cnn_designed_plus_rand_train_walked     20759\n",
       "rnn_designed_plus_rand_train_walked     20731\n",
       "lr_standard_walked                      20456\n",
       "cnn_rand_doubles_plus_single_walked     20454\n",
       "cnn_standard_walked                     20395\n",
       "rnn_rand_doubles_plus_singles_walked    20154\n",
       "lr_rand_doubles_plus_single_walked      19999\n",
       "lr_designed_plus_rand_train_walked      19680\n",
       "rand                                     9857\n",
       "lr_rand_doubles_plus_single_seed         2071\n",
       "rnn_designed_plus_rand_train_seed        2065\n",
       "rnn_rand_doubles_plus_singles_seed       2045\n",
       "lr_designed_plus_rand_train_seed         2030\n",
       "cnn_rand_doubles_plus_single_seed        2022\n",
       "lr_standard_seed                         1989\n",
       "cnn_standard_seed                        1924\n",
       "rnn_standard_seed                        1916\n",
       "cnn_designed_plus_rand_train_seed        1898\n",
       "single                                   1112\n",
       "singles                                  1085\n",
       "previous_chip_nonviable                   998\n",
       "previous_chip_viable                      994\n",
       "stop                                       57\n",
       "wild_type                                   1\n",
       "Name: partition, dtype: int64"
      ]
     },
     "execution_count": 13,
     "metadata": {},
     "output_type": "execute_result"
    }
   ],
   "source": [
    "aav_data['partition'].value_counts()"
   ]
  },
  {
   "cell_type": "code",
   "execution_count": 14,
   "metadata": {},
   "outputs": [],
   "source": [
    "# Let's define the partitions that we consider to be part of the \"natural\" sequences (with associated experiments)\n",
    "# vs. the designed sequences (which were predicted using ML).\n",
    "\n",
    "natural_partitions = [\n",
    "    'previous_chip_viable',\n",
    "    'previous_chip_nonviable', \n",
    "    'stop',\n",
    "    'single',\n",
    "    'singles',\n",
    "    'wild_type',\n",
    "    'random_doubles',\n",
    "    'designed',\n",
    "]\n",
    "\n",
    "design_partitions = [\n",
    "    'cnn_designed_plus_rand_train_walked',\n",
    "    'lr_rand_doubles_plus_single_walked',\n",
    "    'cnn_rand_doubles_plus_single_seed',\n",
    "    'cnn_standard_walked',\n",
    "    'rnn_rand_doubles_plus_singles_seed',\n",
    "    'lr_standard_walked',\n",
    "    'lr_rand_doubles_plus_single_seed',\n",
    "    'lr_designed_plus_rand_train_seed',\n",
    "    'cnn_rand_doubles_plus_single_walked',\n",
    "    'cnn_designed_plus_rand_train_seed',\n",
    "    'lr_standard_seed',\n",
    "    'rnn_designed_plus_rand_train_walked',\n",
    "    'lr_designed_plus_rand_train_walked',\n",
    "    'rnn_standard_seed',\n",
    "    'rnn_standard_walked',\n",
    "    'rnn_designed_plus_rand_train_seed',\n",
    "    'cnn_standard_seed',\n",
    "    'rnn_rand_doubles_plus_singles_walked',\n",
    "]"
   ]
  },
  {
   "cell_type": "code",
   "execution_count": 15,
   "metadata": {},
   "outputs": [],
   "source": [
    "aav_data.loc[aav_data.partition.isin(natural_partitions), 'overarching_partition'] = \"natural_partitions\"\n",
    "aav_data.loc[aav_data.partition.isin(design_partitions), 'overarching_partition'] = \"design_partitions\""
   ]
  },
  {
   "cell_type": "code",
   "execution_count": 16,
   "metadata": {},
   "outputs": [],
   "source": [
    "# De-duplicate (ie.: redundancy reduction at 100% similarity and coverage) sequences in the two categories (natural vs\n",
    "# design) separately. It could happen, that sequences in natural are also present in design. We will take care of this\n",
    "# later.\n",
    "\n",
    "def aggregate_rows(dataframe_slice):\n",
    "    first_element = dataframe_slice.iloc[0]\n",
    "    return {\n",
    "        'mutation_mask': first_element.mutation_sequence,\n",
    "        'mutated_region': first_element.sequence,\n",
    "        'category': first_element.partition,\n",
    "        'number_of_mutations': first_element.num_mutations,\n",
    "        'levenshtein_distance': first_element.num_edits,\n",
    "        'binary_score': first_element.is_viable,\n",
    "        'overarching_partition': first_element.overarching_partition,\n",
    "        'score': dataframe_slice.viral_selection.mean()\n",
    "    }\n",
    "\n",
    "grouped_protein_data = aav_data.groupby(['sequence', 'overarching_partition']).apply(aggregate_rows).values\n",
    "protein_data = DataFrame.from_records(grouped_protein_data)"
   ]
  },
  {
   "cell_type": "code",
   "execution_count": 17,
   "metadata": {},
   "outputs": [],
   "source": [
    "# We want to insert the mutated region for each sample into the complete protein sequence, ie.\n",
    "# [beginning_of_sequence] + [variable_region] + [end_of_seqeuence]\n",
    "def region_cut(new_sequence):\n",
    "    filtered_sequence = new_sequence.upper().replace('*','')\n",
    "    return str(P03135[:region[0]-1].seq) + filtered_sequence + str(P03135[region[1]:].seq)\n",
    "\n",
    "protein_data['full_aa_sequence'] = protein_data['mutated_region'].apply(region_cut)"
   ]
  },
  {
   "cell_type": "code",
   "execution_count": 18,
   "metadata": {},
   "outputs": [
    {
     "name": "stdout",
     "output_type": "stream",
     "text": [
      "The test set will be 20.00% of the data (16517 out of 82583 samples).\n",
      "Set sampled_split has 66066 train and 16517 test sequences. 49% of test is positive.\n"
     ]
    },
    {
     "data": {
      "image/png": "[encoded data removed]",
      "text/plain": [
       "<Figure size 576x576 with 4 Axes>"
      ]
     },
     "metadata": {
      "needs_background": "light"
     },
     "output_type": "display_data"
    }
   ],
   "source": [
    "# Randomly pick 80% of data for training and 20% for testing for the sequences in the natural partitions\n",
    "natural_partitions_indices = protein_data[protein_data.overarching_partition == 'natural_partitions'].index\n",
    "train_indices, test_indeces = train_test_split(natural_partitions_indices, test_size=0.2, random_state=11)\n",
    "\n",
    "protein_data.loc[train_indices, 'sampled_split'] = 'train'\n",
    "protein_data.loc[test_indeces, 'sampled_split'] = 'test'\n",
    "\n",
    "# Plot and print split statistics\n",
    "plot_data_statistics(protein_data, 'sampled_split', 'score')\n",
    "print_positive_stats(protein_data, 'sampled_split')\n",
    "\n",
    "# Randomly pick 10% of train for validation\n",
    "train_indices = protein_data.query('sampled_split==\"train\"').index\n",
    "_, val_indices = train_test_split(train_indices, test_size=0.1, random_state=11)\n",
    "protein_data.loc[val_indices, 'sampled_split_validation'] = True\n",
    "\n",
    "# Store split\n",
    "split = protein_data[protein_data.notna()]\n",
    "split = split.rename({\n",
    "    'full_aa_sequence': 'sequence',\n",
    "    'score': 'target',\n",
    "    'sampled_split': 'set',\n",
    "    'sampled_split_validation': 'validation'\n",
    "}, axis=1)\n",
    "\n",
    "split[\n",
    "    ['sequence', 'target', 'set', 'validation']\n",
    "].to_csv(split_path / 'splits' / \"sampled.csv\", index=False)"
   ]
  },
  {
   "cell_type": "code",
   "execution_count": 19,
   "metadata": {},
   "outputs": [
    {
     "name": "stdout",
     "output_type": "stream",
     "text": [
      "The test set will be 98.58% of the data (81413 out of 82583 samples).\n",
      "Set one_vs_many_split has 1170 train and 81413 test sequences. 49% of test is positive.\n"
     ]
    },
    {
     "data": {
      "image/png": "[encoded data removed]",
      "text/plain": [
       "<Figure size 576x576 with 4 Axes>"
      ]
     },
     "metadata": {
      "needs_background": "light"
     },
     "output_type": "display_data"
    }
   ],
   "source": [
    "# one-vs-many: train on single and WT, test on everything else\n",
    "num_mutations_threshold = 1\n",
    "protein_data['one_vs_many_split'] = protein_data[\n",
    "    protein_data.overarching_partition == 'natural_partitions'\n",
    "].levenshtein_distance.apply(lambda x: \"train\" if x <= num_mutations_threshold else \"test\")\n",
    "\n",
    "# Plot and print split statistics\n",
    "plot_data_statistics(protein_data, 'one_vs_many_split', 'score')\n",
    "print_positive_stats(protein_data, 'one_vs_many_split')\n",
    "\n",
    "# Randomly pick 10% of train for validation\n",
    "train_indices = protein_data.query('one_vs_many_split==\"train\"').index\n",
    "_, val_indices = train_test_split(train_indices, test_size=0.1, random_state=11)\n",
    "protein_data.loc[val_indices, 'one_vs_many_split_validation'] = True\n",
    "\n",
    "# Store split\n",
    "split = protein_data[protein_data.notna()]\n",
    "split = split.rename({\n",
    "    'full_aa_sequence': 'sequence',\n",
    "    'score': 'target',\n",
    "    'one_vs_many_split': 'set',\n",
    "    'one_vs_many_split_validation': 'validation'\n",
    "}, axis=1)\n",
    "\n",
    "split[\n",
    "    ['sequence', 'target', 'set', 'validation']\n",
    "].to_csv(split_path / 'splits' / \"one_vs_many.csv\", index=False)"
   ]
  },
  {
   "cell_type": "code",
   "execution_count": 20,
   "metadata": {},
   "outputs": [
    {
     "name": "stdout",
     "output_type": "stream",
     "text": [
      "The test set will be 61.48% of the data (50776 out of 82583 samples).\n",
      "Set two_vs_many_split has 31807 train and 50776 test sequences. 59% of test is positive.\n"
     ]
    },
    {
     "data": {
      "image/png": "[encoded data removed]",
      "text/plain": [
       "<Figure size 576x576 with 4 Axes>"
      ]
     },
     "metadata": {
      "needs_background": "light"
     },
     "output_type": "display_data"
    }
   ],
   "source": [
    "# two-vs-many: train on single and WT, test on everything else\n",
    "num_mutations_threshold = 2\n",
    "protein_data['two_vs_many_split'] = protein_data[\n",
    "    protein_data.overarching_partition == 'natural_partitions'\n",
    "].levenshtein_distance.apply(lambda x: \"train\" if x <= num_mutations_threshold else \"test\")\n",
    "\n",
    "# Plot and print split statistics\n",
    "plot_data_statistics(protein_data, 'two_vs_many_split', 'score')\n",
    "print_positive_stats(protein_data, 'two_vs_many_split')\n",
    "\n",
    "# Randomly pick 10% of train for validation\n",
    "train_indices = protein_data.query('two_vs_many_split==\"train\"').index\n",
    "_, val_indices = train_test_split(train_indices, test_size=0.1, random_state=11)\n",
    "protein_data.loc[val_indices, 'two_vs_many_split_validation'] = True\n",
    "\n",
    "# Store split\n",
    "split = protein_data[protein_data.notna()]\n",
    "split = split.rename({\n",
    "    'full_aa_sequence': 'sequence',\n",
    "    'score': 'target',\n",
    "    'two_vs_many_split': 'set',\n",
    "    'two_vs_many_split_validation': 'validation'\n",
    "}, axis=1)\n",
    "\n",
    "split[\n",
    "    ['sequence', 'target', 'set', 'validation']\n",
    "].to_csv(split_path / 'splits' / \"two_vs_many.csv\", index=False)"
   ]
  },
  {
   "cell_type": "code",
   "execution_count": 21,
   "metadata": {},
   "outputs": [
    {
     "name": "stdout",
     "output_type": "stream",
     "text": [
      "The test set will be 15.23% of the data (12581 out of 82583 samples).\n",
      "Set seven_vs_many_split has 70002 train and 12581 test sequences. 17% of test is positive.\n"
     ]
    },
    {
     "data": {
      "image/png": "[encoded data removed]",
      "text/plain": [
       "<Figure size 576x576 with 4 Axes>"
      ]
     },
     "metadata": {
      "needs_background": "light"
     },
     "output_type": "display_data"
    }
   ],
   "source": [
    "# seven-vs-many: train on single and WT, test on everything else\n",
    "num_mutations_threshold = 7\n",
    "protein_data['seven_vs_many_split'] = protein_data[\n",
    "    protein_data.overarching_partition == 'natural_partitions'\n",
    "].levenshtein_distance.apply(lambda x: \"train\" if x <= num_mutations_threshold else \"test\")\n",
    "\n",
    "# Plot and print split statistics\n",
    "plot_data_statistics(protein_data, 'seven_vs_many_split', 'score')\n",
    "print_positive_stats(protein_data, 'seven_vs_many_split')\n",
    "\n",
    "# Randomly pick 10% of train for validation\n",
    "train_indices = protein_data.query('seven_vs_many_split==\"train\"').index\n",
    "_, val_indices = train_test_split(train_indices, test_size=0.1, random_state=11)\n",
    "protein_data.loc[val_indices, 'seven_vs_many_split_validation'] = True\n",
    "\n",
    "# Store split\n",
    "split = protein_data[protein_data.notna()]\n",
    "split = split.rename({\n",
    "    'full_aa_sequence': 'sequence',\n",
    "    'score': 'target',\n",
    "    'seven_vs_many_split': 'set',\n",
    "    'seven_vs_many_split_validation': 'validation'\n",
    "}, axis=1)\n",
    "\n",
    "split[\n",
    "    ['sequence', 'target', 'set', 'validation']\n",
    "].to_csv(split_path / 'splits' / \"seven_vs_many.csv\", index=False)"
   ]
  },
  {
   "cell_type": "code",
   "execution_count": 22,
   "metadata": {},
   "outputs": [
    {
     "name": "stdout",
     "output_type": "stream",
     "text": [
      "The test set will be 42.43% of the data (35037 out of 82583 samples).\n",
      "Set low_vs_high_split has 47546 train and 35037 test sequences. 100% of test is positive.\n"
     ]
    },
    {
     "data": {
      "image/png": "[encoded data removed]",
      "text/plain": [
       "<Figure size 576x576 with 4 Axes>"
      ]
     },
     "metadata": {
      "needs_background": "light"
     },
     "output_type": "display_data"
    }
   ],
   "source": [
    "# low-vs-high: train when fitness is below or equal to wild type, test when above\n",
    "\n",
    "score_threshold = wt['viral_selection']\n",
    "\n",
    "protein_data['low_vs_high_split'] = protein_data[\n",
    "    protein_data.overarching_partition == 'natural_partitions'\n",
    "].score.apply(lambda x: \"train\" if x <= score_threshold else \"test\")\n",
    "\n",
    "# Plot and print split statistics\n",
    "plot_data_statistics(protein_data, 'low_vs_high_split', 'score')\n",
    "print_positive_stats(protein_data, 'low_vs_high_split')\n",
    "\n",
    "# Randomly pick 10% of train for validation\n",
    "train_indices = protein_data.query('low_vs_high_split==\"train\"').index\n",
    "_, val_indices = train_test_split(train_indices, test_size=0.1, random_state=11)\n",
    "protein_data.loc[val_indices, 'low_vs_high_split_validation'] = True\n",
    "\n",
    "# Store split\n",
    "split = protein_data[protein_data.notna()]\n",
    "split = split.rename({\n",
    "    'full_aa_sequence': 'sequence',\n",
    "    'score': 'target',\n",
    "    'low_vs_high_split': 'set',\n",
    "    'low_vs_high_split_validation': 'validation'\n",
    "}, axis=1)\n",
    "\n",
    "split[\n",
    "    ['sequence', 'target', 'set', 'validation']\n",
    "].to_csv(split_path / 'splits' / \"low_vs_high.csv\", index=False)"
   ]
  },
  {
   "cell_type": "code",
   "execution_count": 23,
   "metadata": {},
   "outputs": [
    {
     "name": "stdout",
     "output_type": "stream",
     "text": [
      "The test set will be 70.92% of the data (201426 out of 284009 samples).\n",
      "Set mut_des_split has 82583 train and 201426 test sequences. 55% of test is positive.\n"
     ]
    },
    {
     "data": {
      "image/png": "[encoded data removed]",
      "text/plain": [
       "<Figure size 576x576 with 4 Axes>"
      ]
     },
     "metadata": {
      "needs_background": "light"
     },
     "output_type": "display_data"
    }
   ],
   "source": [
    "# Use the sequences in natural partitions for training\n",
    "def mut_des_split(overarching_partition):\n",
    "    if overarching_partition in 'natural_partitions':\n",
    "        return \"train\"\n",
    "    elif overarching_partition in 'design_partitions':\n",
    "        return \"test\"\n",
    "    else:\n",
    "        return None\n",
    "\n",
    "protein_data['mut_des_split'] = protein_data.overarching_partition.apply(mut_des_split)\n",
    "\n",
    "# Plot and print split statistics\n",
    "plot_data_statistics(protein_data, 'mut_des_split', 'score')\n",
    "print_positive_stats(protein_data, 'mut_des_split')\n",
    "\n",
    "# Randomly pick 10% of train for validation\n",
    "train_indices = protein_data.query('mut_des_split==\"train\"').index\n",
    "_, val_indices = train_test_split(train_indices, test_size=0.1, random_state=11)\n",
    "protein_data.loc[val_indices, 'mut_des_split_validation'] = True\n",
    "\n",
    "# Store split\n",
    "split = protein_data[protein_data.notna()]\n",
    "split = split.rename({\n",
    "    'full_aa_sequence': 'sequence',\n",
    "    'score': 'target',\n",
    "    'mut_des_split': 'set',\n",
    "    'mut_des_split_validation': 'validation'\n",
    "}, axis=1)\n",
    "\n",
    "split[\n",
    "    ['sequence', 'target', 'set', 'validation']\n",
    "].to_csv(split_path / 'splits' / \"mut_des.csv\", index=False)"
   ]
  },
  {
   "cell_type": "code",
   "execution_count": 24,
   "metadata": {},
   "outputs": [
    {
     "name": "stdout",
     "output_type": "stream",
     "text": [
      "The test set will be 29.08% of the data (82583 out of 284009 samples).\n",
      "Set des_mut_split has 201426 train and 82583 test sequences. 49% of test is positive.\n"
     ]
    },
    {
     "data": {
      "image/png": "[encoded data removed]",
      "text/plain": [
       "<Figure size 576x576 with 4 Axes>"
      ]
     },
     "metadata": {
      "needs_background": "light"
     },
     "output_type": "display_data"
    }
   ],
   "source": [
    "def des_mut_split(overarching_partition):\n",
    "    if overarching_partition in 'design_partitions':\n",
    "        return \"train\"\n",
    "    elif overarching_partition in 'natural_partitions':\n",
    "        return \"test\"\n",
    "    else:\n",
    "        return None\n",
    "    \n",
    "protein_data['des_mut_split'] = protein_data.overarching_partition.apply(des_mut_split)\n",
    "\n",
    "# Plot and print split statistics\n",
    "plot_data_statistics(protein_data, 'des_mut_split', 'score')\n",
    "print_positive_stats(protein_data, 'des_mut_split')\n",
    "\n",
    "# Randomly pick 10% of train for validation\n",
    "train_indices = protein_data.query('des_mut_split==\"train\"').index\n",
    "_, val_indices = train_test_split(train_indices, test_size=0.1, random_state=11)\n",
    "protein_data.loc[val_indices, 'des_mut_split_validation'] = True\n",
    "\n",
    "# Store split\n",
    "split = protein_data[protein_data.notna()]\n",
    "split = split.rename({\n",
    "    'full_aa_sequence': 'sequence',\n",
    "    'score': 'target',\n",
    "    'des_mut_split': 'set',\n",
    "    'des_mut_split_validation': 'validation'\n",
    "}, axis=1)\n",
    "\n",
    "split[\n",
    "    ['sequence', 'target', 'set', 'validation']\n",
    "].to_csv(split_path / 'splits' / \"des_mut.csv\", index=False)"
   ]
  },
  {
   "cell_type": "code",
   "execution_count": 25,
   "metadata": {},
   "outputs": [],
   "source": [
    "# Add reference region for completeness\n",
    "protein_data['reference_region'] = reference_region\n",
    "\n",
    "protein_data.to_csv(split_path / \"full_data.csv\", index=False)"
   ]
  }
 ],
 "metadata": {
  "kernelspec": {
   "display_name": "Python 3",
   "language": "python",
   "name": "python3"
  },
  "language_info": {
   "codemirror_mode": {
    "name": "ipython",
    "version": 3
   },
   "file_extension": ".py",
   "mimetype": "text/x-python",
   "name": "python",
   "nbconvert_exporter": "python",
   "pygments_lexer": "ipython3",
   "version": "3.8.10"
  }
 },
 "nbformat": 4,
 "nbformat_minor": 1
}
