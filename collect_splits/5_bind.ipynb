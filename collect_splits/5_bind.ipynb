{
 "cells": [
  {
   "cell_type": "markdown",
   "id": "2bae72e2-7b1e-459e-8d80-759efd336f43",
   "metadata": {
    "tags": []
   },
   "source": [
    "# Notes"
   ]
  },
  {
   "cell_type": "markdown",
   "id": "b138dc8d-0349-4b4e-ae09-746f00375881",
   "metadata": {},
   "source": [
    "Used data from:\n",
    "- Paper \"Protein embeddings and deep learning predict binding residues for various ligand classes\" by Littmann et al. available at: https://github.com/Rostlab/bindPredict\n",
    "\n",
    "**Data explanation**:\n",
    "- Development set\n",
    "    - DevSet1014: 1014 proteins (13.999 binding residues + 156.684 non-binding residues)\n",
    "        - Metal ions: 455 proteins (2.374 binding residues + 77.404 non-binding residues)\n",
    "        - Nucleic acids: 108 proteins (2.689 binding residues + 15.582 non-binding residues)\n",
    "        - Small molecules: 606 proteins (9.281 binding residues + 94.119 non-binding residues)\n",
    "    - TestSet300: 300 proteins (5.869 binding residues + 56.820 non-binding residues)\n",
    "        - Metal ions: 122 proteins (881 binding residues + 26.763 non-binding residues)\n",
    "        - Nucleic acids: 66 proteins (1.470 binding residues + 14.698 non-binding residues)\n",
    "        - Small molecules: 220 proteins (3.906 binding residues + 42.629 non-binding residues)\n",
    "- Independent set\n",
    "    - TestSetNew46: 46 proteins (575 binding residues + 6.652 non-binding residues)\n",
    "        - Metal ions: 15 proteins (77 binding residues + 2.198 non-binding residues)\n",
    "        - Nucleic acids: 10 proteins (77 binding residues + 874 non-binding residues)\n",
    "        - Small molecules: 25 proteins (425 binding residues + 3.259 non-binding residues)\n",
    "\n",
    "**Proposed splits**:\n",
    "- Working at protein-level (train on sequences with X ligan type(s), test on else (~18% of the proteins have >1 type of ligand)):\n",
    "    - `one_vs_many`: train on proteins with only 1 type of ligand, test on proteins with 2 and 3 types of ligands\n",
    "    - `two_vs_many`: train on proteins with 1 or 2 types of ligand, test on proteins with 3 types of ligand\n",
    "    - `from_publication`: train on proteins with 1, 2 or 3 types of ligand from original training set, test on original test sets TestSet300 and TestSetNew46 mixed.\n",
    "\n",
    "- Working at residue-level (train on sequences with residues assigned to only 1 type of ligand, test on sequences with residues assigned to multiple classes (~4% of the residues have more than one type of ligand)):\n",
    "    - `one_vs_sm`: train on proteins with residues having only one type of ligand, test on proteins with residues having Small+Metal ligands\n",
    "    - `one_vs_mn`: train as `one_vs_sm` but with balances classes, test on proteins with residues having Metal+Nuclear\n",
    "    - `one_vs_sn`: train as `one_vs_sm` but with balances classes, test on proteins with residues having Small+Nuclear\n",
    "\n",
    "The splits `one_vs_many`, `two_vs_many` and `from_publication` aim to analyze the impact of training/testing taking into account that proteins have more than one type of ligands, i.e., we can have proteins with only residues with metal ligands and/or proteins with residues with metal ligand and other residues with small ligand.\n",
    "\n",
    "On the other hand, the splits `one_vs_sm`, `one_vs_mn` and `one_vs_sn` aim to analyze the impact of training in proteins with residues having only one type of residue and testing on proteins that hve multi-ligand residues."
   ]
  },
  {
   "cell_type": "markdown",
   "id": "b3f90f54-ea0d-41cc-a8d4-6a8ce6858c91",
   "metadata": {
    "tags": []
   },
   "source": [
    "# Configs & Imports"
   ]
  },
  {
   "cell_type": "code",
   "execution_count": 1,
   "id": "b9cdad12",
   "metadata": {},
   "outputs": [],
   "source": [
    "from pathlib import Path\n",
    "\n",
    "from pandas import DataFrame, read_csv\n",
    "from matplotlib import pyplot as plt\n",
    "from numpy import NaN\n",
    "\n",
    "from Bio import SeqIO\n",
    "\n",
    "from helpers import plot_data_statistics\n",
    "\n",
    "from IPython.display import display\n",
    "\n",
    "%load_ext autoreload\n",
    "%autoreload 2"
   ]
  },
  {
   "cell_type": "code",
   "execution_count": 2,
   "id": "f40e8175",
   "metadata": {},
   "outputs": [],
   "source": [
    "# Where the raw data is stored and where processed data will be deposited\n",
    "data_path = Path('') / '..' / 'data' / 'bind'\n",
    "split_path = Path('') / '..' / 'splits' / 'bind'\n",
    "\n",
    "# Development set (DevSet1014 & TestSet300)\n",
    "sequences_path = data_path / 'development_set' / 'all.fasta'\n",
    "binding_residues_metal_path = data_path / 'development_set' / 'binding_residues_2.5_metal.txt'\n",
    "binding_residues_nuclear_path = data_path / 'development_set' / 'binding_residues_2.5_nuclear.txt'\n",
    "binding_residues_small_path = data_path / 'development_set' / 'binding_residues_2.5_small.txt'\n",
    "test_set_path = data_path / 'development_set' / 'uniprot_test.txt'\n",
    "\n",
    "# Independent (test) set (TestSetNew46)\n",
    "independent_sequences_path = data_path / 'independent_set' / 'indep_set.fasta'\n",
    "independent_binding_residues_metal_path = data_path / 'independent_set' / 'binding_residues_metal.txt'\n",
    "independent_binding_residues_nuclear_path = data_path / 'independent_set' / 'binding_residues_nuclear.txt'\n",
    "independent_binding_residues_small_path = data_path / 'independent_set' / 'binding_residues_small.txt'\n",
    "independent_set_path = data_path / 'independent_set' / 'indep_set.txt'"
   ]
  },
  {
   "cell_type": "markdown",
   "id": "c73462a0",
   "metadata": {},
   "source": [
    "# Obtain original datasets"
   ]
  },
  {
   "cell_type": "code",
   "execution_count": 3,
   "id": "fa8c26f9",
   "metadata": {},
   "outputs": [],
   "source": [
    "# Function to encapsulate reading from fasta files\n",
    "def getProteinsFromFASTAFile(filePath):\n",
    "    columns = [\"id\", \"sequence\"]\n",
    "    dataset = DataFrame(columns = columns)\n",
    "    \n",
    "    for protein in SeqIO.parse(filePath, \"fasta\"):\n",
    "        dataset = dataset.append({\"id\": protein.id,\n",
    "                                  \"sequence\": str(protein.seq)}, ignore_index=True)\n",
    "    \n",
    "    return dataset"
   ]
  },
  {
   "cell_type": "code",
   "execution_count": 4,
   "id": "6d7cf53c",
   "metadata": {},
   "outputs": [],
   "source": [
    "# Obtain data from sets\n",
    "sequences = getProteinsFromFASTAFile(sequences_path)\n",
    "binding_residues_metal = read_csv(binding_residues_metal_path, sep=\"\t\", names=[\"id\", \"binding residues\"])\n",
    "binding_residues_nuclear = read_csv(binding_residues_nuclear_path, sep=\"\t\", names=[\"id\", \"binding residues\"])\n",
    "binding_residues_small = read_csv(binding_residues_small_path, sep=\"\t\", names=[\"id\", \"binding residues\"])\n",
    "test_set = read_csv(test_set_path, names=[\"id\"])\n",
    "\n",
    "independent_sequences = getProteinsFromFASTAFile(independent_sequences_path)\n",
    "independent_binding_residues_metal = read_csv(independent_binding_residues_metal_path, sep=\"\t\", names=[\"id\", \"binding residues\"])\n",
    "independent_binding_residues_nuclear = read_csv(independent_binding_residues_nuclear_path, sep=\"\t\", names=[\"id\", \"binding residues\"])\n",
    "independent_binding_residues_small = read_csv(independent_binding_residues_small_path, sep=\"\t\", names=[\"id\", \"binding residues\"])\n",
    "independent_set = read_csv(independent_set_path, names=[\"id\"])"
   ]
  },
  {
   "cell_type": "markdown",
   "id": "8b28877f",
   "metadata": {},
   "source": [
    "# Construct base datasets"
   ]
  },
  {
   "cell_type": "code",
   "execution_count": 5,
   "id": "516d0285",
   "metadata": {},
   "outputs": [],
   "source": [
    "# Let's construct a single development dataset with all the information together\n",
    "sequences_with_binding_info = DataFrame(columns = [\"id\", \"sequence\", \"metal\", \"nuclear\", \"small\", \"set\"])\n",
    "\n",
    "for index, row in sequences.iterrows():\n",
    "    # Determine the binding type and the binding residues\n",
    "    metal, nuclear, small = NaN, NaN, NaN\n",
    "    if row[\"id\"] in list(binding_residues_metal[\"id\"]):\n",
    "        metal = binding_residues_metal.iloc[list(binding_residues_metal[\"id\"]).index(row[\"id\"])][\"binding residues\"]\n",
    "    \n",
    "    if row[\"id\"] in list(binding_residues_nuclear[\"id\"]):\n",
    "        nuclear = binding_residues_nuclear.iloc[list(binding_residues_nuclear[\"id\"]).index(row[\"id\"])][\"binding residues\"]\n",
    "    \n",
    "    if row[\"id\"] in list(binding_residues_small[\"id\"]):\n",
    "        small = binding_residues_small.iloc[list(binding_residues_small[\"id\"]).index(row[\"id\"])][\"binding residues\"]\n",
    "    \n",
    "    # Train/validation or test\n",
    "    train_or_test = \"train\"\n",
    "    if row[\"id\"] in list(test_set[\"id\"]):\n",
    "        train_or_test = \"test\"\n",
    "    \n",
    "    new_sequence = {\"id\": row[\"id\"], \n",
    "                    \"sequence\": row[\"sequence\"], \n",
    "                    \"metal\": metal,\n",
    "                    \"nuclear\": nuclear,\n",
    "                    \"small\": small,\n",
    "                    \"set\": train_or_test}\n",
    "    sequences_with_binding_info = sequences_with_binding_info.append(new_sequence, ignore_index = True)"
   ]
  },
  {
   "cell_type": "code",
   "execution_count": 6,
   "id": "d8ff8fa9",
   "metadata": {
    "scrolled": true
   },
   "outputs": [],
   "source": [
    "# Let's construct a single independent dataset with all the information together\n",
    "independent_sequences_with_binding_info = DataFrame(columns = [\"id\", \"sequence\", \"metal\", \"nuclear\", \"small\", \"set\"])\n",
    "\n",
    "for index, row in independent_sequences.iterrows():\n",
    "    # Determine the binding type and the binding residues\n",
    "    metal, nuclear, small = NaN, NaN, NaN\n",
    "    if row[\"id\"] in list(independent_binding_residues_metal[\"id\"]):\n",
    "        metal = independent_binding_residues_metal.iloc[list(independent_binding_residues_metal[\"id\"]).index(row[\"id\"])][\"binding residues\"]\n",
    "    \n",
    "    if row[\"id\"] in list(independent_binding_residues_nuclear[\"id\"]):\n",
    "        nuclear = independent_binding_residues_nuclear.iloc[list(independent_binding_residues_nuclear[\"id\"]).index(row[\"id\"])][\"binding residues\"]\n",
    "    \n",
    "    if row[\"id\"] in list(independent_binding_residues_small[\"id\"]):\n",
    "        small = independent_binding_residues_small.iloc[list(independent_binding_residues_small[\"id\"]).index(row[\"id\"])][\"binding residues\"]\n",
    "    \n",
    "    # Train/validation or test\n",
    "    train_or_test = \"train\"\n",
    "    if row[\"id\"] in list(test_set[\"id\"]):\n",
    "        train_or_test = \"test\"\n",
    "    \n",
    "    new_sequence = {\"id\": row[\"id\"], \n",
    "                    \"sequence\": row[\"sequence\"], \n",
    "                    \"metal\": metal,\n",
    "                    \"nuclear\": nuclear,\n",
    "                    \"small\": small,\n",
    "                    \"set\": train_or_test}\n",
    "    independent_sequences_with_binding_info = independent_sequences_with_binding_info.append(new_sequence, ignore_index = True)"
   ]
  },
  {
   "cell_type": "code",
   "execution_count": 7,
   "id": "9509e8f1",
   "metadata": {},
   "outputs": [
    {
     "data": {
      "text/html": [
       "<div>\n",
       "<style scoped>\n",
       "    .dataframe tbody tr th:only-of-type {\n",
       "        vertical-align: middle;\n",
       "    }\n",
       "\n",
       "    .dataframe tbody tr th {\n",
       "        vertical-align: top;\n",
       "    }\n",
       "\n",
       "    .dataframe thead th {\n",
       "        text-align: right;\n",
       "    }\n",
       "</style>\n",
       "<table border=\"1\" class=\"dataframe\">\n",
       "  <thead>\n",
       "    <tr style=\"text-align: right;\">\n",
       "      <th></th>\n",
       "      <th>id</th>\n",
       "      <th>sequence</th>\n",
       "      <th>metal</th>\n",
       "      <th>nuclear</th>\n",
       "      <th>small</th>\n",
       "      <th>set</th>\n",
       "    </tr>\n",
       "  </thead>\n",
       "  <tbody>\n",
       "    <tr>\n",
       "      <th>0</th>\n",
       "      <td>Q5LL55</td>\n",
       "      <td>MSETWLPTLVTATPQEGFDLAVKLSRIAVKKTQPDAQVRDTLRAVY...</td>\n",
       "      <td>NaN</td>\n",
       "      <td>NaN</td>\n",
       "      <td>53,46,32,42,25,60,56,43,57,31,54,22,34,40,26,2...</td>\n",
       "      <td>train</td>\n",
       "    </tr>\n",
       "    <tr>\n",
       "      <th>1</th>\n",
       "      <td>H9L4N9</td>\n",
       "      <td>MQINIQGHHIDLTDSMQDYVHSKFDKLERFFDHINHVQVILRVEKL...</td>\n",
       "      <td>51,62,42,60,55,64</td>\n",
       "      <td>NaN</td>\n",
       "      <td>NaN</td>\n",
       "      <td>train</td>\n",
       "    </tr>\n",
       "    <tr>\n",
       "      <th>2</th>\n",
       "      <td>O34738</td>\n",
       "      <td>MKSWKVKEIVIMSVISIVFAVVYLLFTHFGNVLAGMFGPIAYEPIY...</td>\n",
       "      <td>NaN</td>\n",
       "      <td>NaN</td>\n",
       "      <td>100,46,104,88,63,42,77,135,91,108,27,101,134,1...</td>\n",
       "      <td>train</td>\n",
       "    </tr>\n",
       "    <tr>\n",
       "      <th>3</th>\n",
       "      <td>P39579</td>\n",
       "      <td>MDFKQEVLDVLAEVCQDDIVKENPDIEIFEEGLLDSFGTVELLLAI...</td>\n",
       "      <td>NaN</td>\n",
       "      <td>NaN</td>\n",
       "      <td>37,36,40,61</td>\n",
       "      <td>train</td>\n",
       "    </tr>\n",
       "    <tr>\n",
       "      <th>4</th>\n",
       "      <td>P01887</td>\n",
       "      <td>MARSVTLVFLVLVSLTGLYAIQKTPQIQVYSRHPPENGKPNILNCY...</td>\n",
       "      <td>83,77</td>\n",
       "      <td>NaN</td>\n",
       "      <td>30,117,118,116</td>\n",
       "      <td>train</td>\n",
       "    </tr>\n",
       "    <tr>\n",
       "      <th>...</th>\n",
       "      <td>...</td>\n",
       "      <td>...</td>\n",
       "      <td>...</td>\n",
       "      <td>...</td>\n",
       "      <td>...</td>\n",
       "      <td>...</td>\n",
       "    </tr>\n",
       "    <tr>\n",
       "      <th>41</th>\n",
       "      <td>Q9KDJ7</td>\n",
       "      <td>MSDEKKILGEERRSLLIKWLKASDTPLTGAELAKRTNVSRQVIVQD...</td>\n",
       "      <td>150,152,91</td>\n",
       "      <td>NaN</td>\n",
       "      <td>130,134,105,141,142,83,150,88,91,92,152</td>\n",
       "      <td>train</td>\n",
       "    </tr>\n",
       "    <tr>\n",
       "      <th>42</th>\n",
       "      <td>Q9LFM3</td>\n",
       "      <td>MGAGREVSVSLDGVRDKNLMQLKILNTVLFPVRYNDKYYADAIAAG...</td>\n",
       "      <td>NaN</td>\n",
       "      <td>NaN</td>\n",
       "      <td>129,79,80,81,82,83,88,89,90,91,92,93,94,114,11...</td>\n",
       "      <td>train</td>\n",
       "    </tr>\n",
       "    <tr>\n",
       "      <th>43</th>\n",
       "      <td>Q9SJ89</td>\n",
       "      <td>MNLQAVSCSFGFLSSPLGVTPRTSFRRFVIRAKTEPSEKSVEIMRK...</td>\n",
       "      <td>NaN</td>\n",
       "      <td>NaN</td>\n",
       "      <td>69,85,86,104,106,109,115,116,117,119,120</td>\n",
       "      <td>train</td>\n",
       "    </tr>\n",
       "    <tr>\n",
       "      <th>44</th>\n",
       "      <td>U2EQ00</td>\n",
       "      <td>MAWLILIIAGIFEVVWAIALKYSNGFTRLIPSMITLIGMLISFYLL...</td>\n",
       "      <td>NaN</td>\n",
       "      <td>NaN</td>\n",
       "      <td>64,65,68,13,16,25,26,27,29,33,98,36,39,40,43,4...</td>\n",
       "      <td>train</td>\n",
       "    </tr>\n",
       "    <tr>\n",
       "      <th>45</th>\n",
       "      <td>X2D812</td>\n",
       "      <td>MTSERRPADPEIVEGLPIPLAVAGHHQPAPFYLTADMFGGLPVQLA...</td>\n",
       "      <td>64,68,107,62</td>\n",
       "      <td>NaN</td>\n",
       "      <td>NaN</td>\n",
       "      <td>train</td>\n",
       "    </tr>\n",
       "  </tbody>\n",
       "</table>\n",
       "<p>1360 rows × 6 columns</p>\n",
       "</div>"
      ],
      "text/plain": [
       "        id                                           sequence  \\\n",
       "0   Q5LL55  MSETWLPTLVTATPQEGFDLAVKLSRIAVKKTQPDAQVRDTLRAVY...   \n",
       "1   H9L4N9  MQINIQGHHIDLTDSMQDYVHSKFDKLERFFDHINHVQVILRVEKL...   \n",
       "2   O34738  MKSWKVKEIVIMSVISIVFAVVYLLFTHFGNVLAGMFGPIAYEPIY...   \n",
       "3   P39579  MDFKQEVLDVLAEVCQDDIVKENPDIEIFEEGLLDSFGTVELLLAI...   \n",
       "4   P01887  MARSVTLVFLVLVSLTGLYAIQKTPQIQVYSRHPPENGKPNILNCY...   \n",
       "..     ...                                                ...   \n",
       "41  Q9KDJ7  MSDEKKILGEERRSLLIKWLKASDTPLTGAELAKRTNVSRQVIVQD...   \n",
       "42  Q9LFM3  MGAGREVSVSLDGVRDKNLMQLKILNTVLFPVRYNDKYYADAIAAG...   \n",
       "43  Q9SJ89  MNLQAVSCSFGFLSSPLGVTPRTSFRRFVIRAKTEPSEKSVEIMRK...   \n",
       "44  U2EQ00  MAWLILIIAGIFEVVWAIALKYSNGFTRLIPSMITLIGMLISFYLL...   \n",
       "45  X2D812  MTSERRPADPEIVEGLPIPLAVAGHHQPAPFYLTADMFGGLPVQLA...   \n",
       "\n",
       "                metal nuclear  \\\n",
       "0                 NaN     NaN   \n",
       "1   51,62,42,60,55,64     NaN   \n",
       "2                 NaN     NaN   \n",
       "3                 NaN     NaN   \n",
       "4               83,77     NaN   \n",
       "..                ...     ...   \n",
       "41         150,152,91     NaN   \n",
       "42                NaN     NaN   \n",
       "43                NaN     NaN   \n",
       "44                NaN     NaN   \n",
       "45       64,68,107,62     NaN   \n",
       "\n",
       "                                                small    set  \n",
       "0   53,46,32,42,25,60,56,43,57,31,54,22,34,40,26,2...  train  \n",
       "1                                                 NaN  train  \n",
       "2   100,46,104,88,63,42,77,135,91,108,27,101,134,1...  train  \n",
       "3                                         37,36,40,61  train  \n",
       "4                                      30,117,118,116  train  \n",
       "..                                                ...    ...  \n",
       "41            130,134,105,141,142,83,150,88,91,92,152  train  \n",
       "42  129,79,80,81,82,83,88,89,90,91,92,93,94,114,11...  train  \n",
       "43           69,85,86,104,106,109,115,116,117,119,120  train  \n",
       "44  64,65,68,13,16,25,26,27,29,33,98,36,39,40,43,4...  train  \n",
       "45                                                NaN  train  \n",
       "\n",
       "[1360 rows x 6 columns]"
      ]
     },
     "execution_count": 7,
     "metadata": {},
     "output_type": "execute_result"
    }
   ],
   "source": [
    "# Let's mix both test sets to acquire a bigger test set since the unique difference is the acquisition moment\n",
    "full_set = sequences_with_binding_info.append(independent_sequences_with_binding_info)\n",
    "full_set"
   ]
  },
  {
   "cell_type": "code",
   "execution_count": 8,
   "id": "edad773b",
   "metadata": {},
   "outputs": [],
   "source": [
    "# Let's encode the proteins in binary-fashion \n",
    "# in order to represent the type of ligands over the amino acids of the sequences\n",
    "# Encoding: SNM (Small Nuclear Metal), i.e., 000 = No binding, 001 = Metal, 010 = Nuclear, 100 = Small\n",
    "# Combinations such as 101 (Small + Metal) allows for representing residues with more than 1 type of ligand\n",
    "full_set_encoded = DataFrame(columns = [\"id\", \"sequence\", \"encoding\", \"set\"])\n",
    "for i in range(len(full_set)):\n",
    "    encoded_seq = [0b000]*len(full_set.iloc[i].sequence)\n",
    "    \n",
    "    if full_set.iloc[i].metal is not NaN:\n",
    "        metal = list(map(int, full_set.iloc[i].metal.split(\",\")))\n",
    "        for residue in metal:\n",
    "            encoded_seq[residue - 1] = encoded_seq[residue - 1] | 0b001\n",
    "            \n",
    "    if full_set.iloc[i].nuclear is not NaN:\n",
    "        nuclear = list(map(int, full_set.iloc[i].nuclear.split(\",\")))\n",
    "        for residue in nuclear:\n",
    "            encoded_seq[residue - 1] = encoded_seq[residue - 1] | 0b010\n",
    "    \n",
    "    if full_set.iloc[i].small is not NaN:\n",
    "        small = list(map(int, full_set.iloc[i].small.split(\",\")))\n",
    "        for residue in small:\n",
    "            encoded_seq[residue - 1] = encoded_seq[residue - 1] | 0b100\n",
    "    \n",
    "    full_set_encoded = full_set_encoded.append({\"id\": full_set.iloc[i].id,\n",
    "                                                \"sequence\": full_set.iloc[i].sequence, \n",
    "                                                \"encoding\": encoded_seq,\n",
    "                                                \"set\": full_set.iloc[i].set }, ignore_index=True)"
   ]
  },
  {
   "cell_type": "code",
   "execution_count": 9,
   "id": "529e21f1",
   "metadata": {},
   "outputs": [
    {
     "data": {
      "text/html": [
       "<div>\n",
       "<style scoped>\n",
       "    .dataframe tbody tr th:only-of-type {\n",
       "        vertical-align: middle;\n",
       "    }\n",
       "\n",
       "    .dataframe tbody tr th {\n",
       "        vertical-align: top;\n",
       "    }\n",
       "\n",
       "    .dataframe thead th {\n",
       "        text-align: right;\n",
       "    }\n",
       "</style>\n",
       "<table border=\"1\" class=\"dataframe\">\n",
       "  <thead>\n",
       "    <tr style=\"text-align: right;\">\n",
       "      <th></th>\n",
       "      <th>id</th>\n",
       "      <th>sequence</th>\n",
       "      <th>encoding</th>\n",
       "      <th>set</th>\n",
       "    </tr>\n",
       "  </thead>\n",
       "  <tbody>\n",
       "    <tr>\n",
       "      <th>0</th>\n",
       "      <td>Q5LL55</td>\n",
       "      <td>MSETWLPTLVTATPQEGFDLAVKLSRIAVKKTQPDAQVRDTLRAVY...</td>\n",
       "      <td>[0, 0, 0, 0, 0, 0, 0, 0, 0, 0, 0, 0, 0, 0, 0, ...</td>\n",
       "      <td>train</td>\n",
       "    </tr>\n",
       "    <tr>\n",
       "      <th>1</th>\n",
       "      <td>H9L4N9</td>\n",
       "      <td>MQINIQGHHIDLTDSMQDYVHSKFDKLERFFDHINHVQVILRVEKL...</td>\n",
       "      <td>[0, 0, 0, 0, 0, 0, 0, 0, 0, 0, 0, 0, 0, 0, 0, ...</td>\n",
       "      <td>train</td>\n",
       "    </tr>\n",
       "    <tr>\n",
       "      <th>2</th>\n",
       "      <td>O34738</td>\n",
       "      <td>MKSWKVKEIVIMSVISIVFAVVYLLFTHFGNVLAGMFGPIAYEPIY...</td>\n",
       "      <td>[0, 0, 0, 0, 0, 0, 0, 0, 0, 0, 0, 0, 0, 0, 0, ...</td>\n",
       "      <td>train</td>\n",
       "    </tr>\n",
       "    <tr>\n",
       "      <th>3</th>\n",
       "      <td>P39579</td>\n",
       "      <td>MDFKQEVLDVLAEVCQDDIVKENPDIEIFEEGLLDSFGTVELLLAI...</td>\n",
       "      <td>[0, 0, 0, 0, 0, 0, 0, 0, 0, 0, 0, 0, 0, 0, 0, ...</td>\n",
       "      <td>train</td>\n",
       "    </tr>\n",
       "    <tr>\n",
       "      <th>4</th>\n",
       "      <td>P01887</td>\n",
       "      <td>MARSVTLVFLVLVSLTGLYAIQKTPQIQVYSRHPPENGKPNILNCY...</td>\n",
       "      <td>[0, 0, 0, 0, 0, 0, 0, 0, 0, 0, 0, 0, 0, 0, 0, ...</td>\n",
       "      <td>train</td>\n",
       "    </tr>\n",
       "    <tr>\n",
       "      <th>...</th>\n",
       "      <td>...</td>\n",
       "      <td>...</td>\n",
       "      <td>...</td>\n",
       "      <td>...</td>\n",
       "    </tr>\n",
       "    <tr>\n",
       "      <th>1355</th>\n",
       "      <td>Q9KDJ7</td>\n",
       "      <td>MSDEKKILGEERRSLLIKWLKASDTPLTGAELAKRTNVSRQVIVQD...</td>\n",
       "      <td>[0, 0, 0, 0, 0, 0, 0, 0, 0, 0, 0, 0, 0, 0, 0, ...</td>\n",
       "      <td>train</td>\n",
       "    </tr>\n",
       "    <tr>\n",
       "      <th>1356</th>\n",
       "      <td>Q9LFM3</td>\n",
       "      <td>MGAGREVSVSLDGVRDKNLMQLKILNTVLFPVRYNDKYYADAIAAG...</td>\n",
       "      <td>[0, 0, 0, 0, 0, 0, 0, 0, 0, 0, 0, 0, 0, 0, 0, ...</td>\n",
       "      <td>train</td>\n",
       "    </tr>\n",
       "    <tr>\n",
       "      <th>1357</th>\n",
       "      <td>Q9SJ89</td>\n",
       "      <td>MNLQAVSCSFGFLSSPLGVTPRTSFRRFVIRAKTEPSEKSVEIMRK...</td>\n",
       "      <td>[0, 0, 0, 0, 0, 0, 0, 0, 0, 0, 0, 0, 0, 0, 0, ...</td>\n",
       "      <td>train</td>\n",
       "    </tr>\n",
       "    <tr>\n",
       "      <th>1358</th>\n",
       "      <td>U2EQ00</td>\n",
       "      <td>MAWLILIIAGIFEVVWAIALKYSNGFTRLIPSMITLIGMLISFYLL...</td>\n",
       "      <td>[0, 0, 0, 0, 0, 0, 0, 0, 0, 0, 0, 0, 4, 0, 0, ...</td>\n",
       "      <td>train</td>\n",
       "    </tr>\n",
       "    <tr>\n",
       "      <th>1359</th>\n",
       "      <td>X2D812</td>\n",
       "      <td>MTSERRPADPEIVEGLPIPLAVAGHHQPAPFYLTADMFGGLPVQLA...</td>\n",
       "      <td>[0, 0, 0, 0, 0, 0, 0, 0, 0, 0, 0, 0, 0, 0, 0, ...</td>\n",
       "      <td>train</td>\n",
       "    </tr>\n",
       "  </tbody>\n",
       "</table>\n",
       "<p>1360 rows × 4 columns</p>\n",
       "</div>"
      ],
      "text/plain": [
       "          id                                           sequence  \\\n",
       "0     Q5LL55  MSETWLPTLVTATPQEGFDLAVKLSRIAVKKTQPDAQVRDTLRAVY...   \n",
       "1     H9L4N9  MQINIQGHHIDLTDSMQDYVHSKFDKLERFFDHINHVQVILRVEKL...   \n",
       "2     O34738  MKSWKVKEIVIMSVISIVFAVVYLLFTHFGNVLAGMFGPIAYEPIY...   \n",
       "3     P39579  MDFKQEVLDVLAEVCQDDIVKENPDIEIFEEGLLDSFGTVELLLAI...   \n",
       "4     P01887  MARSVTLVFLVLVSLTGLYAIQKTPQIQVYSRHPPENGKPNILNCY...   \n",
       "...      ...                                                ...   \n",
       "1355  Q9KDJ7  MSDEKKILGEERRSLLIKWLKASDTPLTGAELAKRTNVSRQVIVQD...   \n",
       "1356  Q9LFM3  MGAGREVSVSLDGVRDKNLMQLKILNTVLFPVRYNDKYYADAIAAG...   \n",
       "1357  Q9SJ89  MNLQAVSCSFGFLSSPLGVTPRTSFRRFVIRAKTEPSEKSVEIMRK...   \n",
       "1358  U2EQ00  MAWLILIIAGIFEVVWAIALKYSNGFTRLIPSMITLIGMLISFYLL...   \n",
       "1359  X2D812  MTSERRPADPEIVEGLPIPLAVAGHHQPAPFYLTADMFGGLPVQLA...   \n",
       "\n",
       "                                               encoding    set  \n",
       "0     [0, 0, 0, 0, 0, 0, 0, 0, 0, 0, 0, 0, 0, 0, 0, ...  train  \n",
       "1     [0, 0, 0, 0, 0, 0, 0, 0, 0, 0, 0, 0, 0, 0, 0, ...  train  \n",
       "2     [0, 0, 0, 0, 0, 0, 0, 0, 0, 0, 0, 0, 0, 0, 0, ...  train  \n",
       "3     [0, 0, 0, 0, 0, 0, 0, 0, 0, 0, 0, 0, 0, 0, 0, ...  train  \n",
       "4     [0, 0, 0, 0, 0, 0, 0, 0, 0, 0, 0, 0, 0, 0, 0, ...  train  \n",
       "...                                                 ...    ...  \n",
       "1355  [0, 0, 0, 0, 0, 0, 0, 0, 0, 0, 0, 0, 0, 0, 0, ...  train  \n",
       "1356  [0, 0, 0, 0, 0, 0, 0, 0, 0, 0, 0, 0, 0, 0, 0, ...  train  \n",
       "1357  [0, 0, 0, 0, 0, 0, 0, 0, 0, 0, 0, 0, 0, 0, 0, ...  train  \n",
       "1358  [0, 0, 0, 0, 0, 0, 0, 0, 0, 0, 0, 0, 4, 0, 0, ...  train  \n",
       "1359  [0, 0, 0, 0, 0, 0, 0, 0, 0, 0, 0, 0, 0, 0, 0, ...  train  \n",
       "\n",
       "[1360 rows x 4 columns]"
      ]
     },
     "execution_count": 9,
     "metadata": {},
     "output_type": "execute_result"
    }
   ],
   "source": [
    "full_set_encoded"
   ]
  },
  {
   "cell_type": "markdown",
   "id": "253d7378",
   "metadata": {},
   "source": [
    "# Subsets & Statistics"
   ]
  },
  {
   "cell_type": "markdown",
   "id": "7621d14d",
   "metadata": {},
   "source": [
    "## Protein-level"
   ]
  },
  {
   "cell_type": "code",
   "execution_count": 10,
   "id": "531ffafa",
   "metadata": {},
   "outputs": [],
   "source": [
    "# Get index in dataframes for proteins with only 1, with 2 and with 3 type of ligand\n",
    "one_ligand_indexes = [index for index, row in full_set.iterrows() if row.isna().sum() == 2]\n",
    "two_ligand_indexes = [index for index, row in full_set.iterrows() if row.isna().sum() == 1]\n",
    "three_ligand_indexes = [index for index, row in full_set.iterrows() if row.isna().sum() == 0]"
   ]
  },
  {
   "cell_type": "code",
   "execution_count": 11,
   "id": "05858887",
   "metadata": {},
   "outputs": [
    {
     "data": {
      "image/png": "[encoded data removed]",
      "text/plain": [
       "<Figure size 576x576 with 4 Axes>"
      ]
     },
     "metadata": {
      "needs_background": "light"
     },
     "output_type": "display_data"
    }
   ],
   "source": [
    "# Let's visualize the distribution and counts of number of ligands per sequence in the original training & test sets\n",
    "fig, ax = plt.subplots(nrows=2, ncols=2, figsize=(8, 8))\n",
    "full_set.iloc[one_ligand_indexes][\"set\"].hist(ax=ax[0,0])\n",
    "ax[0,0].set_title(\"One type of ligand\")\n",
    "full_set.iloc[two_ligand_indexes][\"set\"].hist(ax=ax[0,1])\n",
    "ax[0,1].set_title(\"Two types of ligand\")\n",
    "full_set.iloc[three_ligand_indexes][\"set\"].hist(ax=ax[1,0])\n",
    "ax[1,0].set_title(\"Three types of ligand\")\n",
    "ax[1,1].set_visible(False)"
   ]
  },
  {
   "cell_type": "code",
   "execution_count": 12,
   "id": "edd61deb",
   "metadata": {},
   "outputs": [],
   "source": [
    "# Get index in dataframes for proteins with small, with nuclear and with metal\n",
    "small_indexes = [index for index, row in full_set.iterrows() if row.small is not NaN]\n",
    "nuclear_indexes = [index for index, row in full_set.iterrows() if row.nuclear is not NaN]\n",
    "metal_indexes = [index for index, row in full_set.iterrows() if row.metal is not NaN]"
   ]
  },
  {
   "cell_type": "code",
   "execution_count": 13,
   "id": "3a9678fa",
   "metadata": {},
   "outputs": [
    {
     "data": {
      "image/png": "[encoded data removed]",
      "text/plain": [
       "<Figure size 576x576 with 4 Axes>"
      ]
     },
     "metadata": {
      "needs_background": "light"
     },
     "output_type": "display_data"
    }
   ],
   "source": [
    "fig, ax = plt.subplots(nrows=2, ncols=2, figsize=(8, 8))\n",
    "full_set.iloc[small_indexes][\"set\"].hist(ax=ax[0,0])\n",
    "ax[0,0].set_title(\"Small ligand\")\n",
    "full_set.iloc[nuclear_indexes][\"set\"].hist(ax=ax[0,1])\n",
    "ax[0,1].set_title(\"Nuclear ligand\")\n",
    "full_set.iloc[metal_indexes][\"set\"].hist(ax=ax[1,0])\n",
    "ax[1,0].set_title(\"Metal of ligand\")\n",
    "ax[1,1].set_visible(False)"
   ]
  },
  {
   "cell_type": "code",
   "execution_count": 14,
   "id": "b1004709",
   "metadata": {},
   "outputs": [],
   "source": [
    "# Get index in dataframes for proteins with ONLY small, with ONLY nuclear and with ONLY metal\n",
    "small_indexes_set = set(small_indexes)\n",
    "nuclear_indexes_set = set(nuclear_indexes)\n",
    "metal_indexes_set = set(metal_indexes)\n",
    "\n",
    "only_small_indexes = list(small_indexes_set - nuclear_indexes_set.union(metal_indexes_set))\n",
    "only_nuclear_indexes = list(nuclear_indexes_set - small_indexes_set.union(metal_indexes_set))\n",
    "only_metal_indexes = list(metal_indexes_set - nuclear_indexes_set.union(small_indexes_set))\n",
    "\n",
    "#del small_indexes_set, nuclear_indexes_set, metal_indexes_set"
   ]
  },
  {
   "cell_type": "code",
   "execution_count": 15,
   "id": "34a3107b",
   "metadata": {},
   "outputs": [
    {
     "data": {
      "image/png": "[encoded data removed]",
      "text/plain": [
       "<Figure size 576x576 with 4 Axes>"
      ]
     },
     "metadata": {
      "needs_background": "light"
     },
     "output_type": "display_data"
    }
   ],
   "source": [
    "fig, ax = plt.subplots(nrows=2, ncols=2, figsize=(8, 8))\n",
    "full_set.iloc[only_small_indexes][\"set\"].hist(ax=ax[0,0])\n",
    "ax[0,0].set_title(\"Only small ligand\")\n",
    "full_set.iloc[only_nuclear_indexes][\"set\"].hist(ax=ax[0,1])\n",
    "ax[0,1].set_title(\"Only nuclear ligand\")\n",
    "full_set.iloc[only_metal_indexes][\"set\"].hist(ax=ax[1,0])\n",
    "ax[1,0].set_title(\"Only metal ligand\")\n",
    "ax[1,1].set_visible(False)"
   ]
  },
  {
   "cell_type": "markdown",
   "id": "799db404",
   "metadata": {},
   "source": [
    "## Residue-level"
   ]
  },
  {
   "cell_type": "code",
   "execution_count": 16,
   "id": "c947ff65",
   "metadata": {},
   "outputs": [],
   "source": [
    "# Get index in dataframes for proteins with residues having only small, metal or nuclear ligands\n",
    "only_metal_residues_indexes = []\n",
    "only_nuclear_residues_indexes = []\n",
    "only_small_residues_indexes = []\n",
    "\n",
    "metal_and_nuclear_residues_indexes = []\n",
    "small_and_metal_residues_indexes = []\n",
    "small_and_nuclear_residues_indexes = []\n",
    "metal_small_and_nuclear_residues_indexes = []\n",
    "\n",
    "for i in range(len(full_set_encoded)):\n",
    "    encoded_seq = full_set_encoded.iloc[i][\"encoding\"]\n",
    "    if all(res == 0 or res == 1 for res in encoded_seq): # No binding (0) & Metal (1)\n",
    "        only_metal_residues_indexes.append(i)\n",
    "    \n",
    "    elif all(res == 0 or res == 2 for res in encoded_seq): # No binding (0) & Nuclear (2)\n",
    "        only_nuclear_residues_indexes.append(i)\n",
    "    \n",
    "    elif all(res == 0 or res == 4 for res in encoded_seq): # No binding (0) & Small (4)\n",
    "        only_small_residues_indexes.append(i)\n",
    "        \n",
    "    if any(res == 3 for res in encoded_seq): # No binding (0) & Metal+Nuclear (3)\n",
    "        metal_and_nuclear_residues_indexes.append(i)\n",
    "    \n",
    "    if any(res == 5 for res in encoded_seq): # No binding (0) & Small+Metal (5)\n",
    "        small_and_metal_residues_indexes.append(i)\n",
    "        \n",
    "    if any(res == 6 for res in encoded_seq): # No binding (0) & Small+Nuclear (6)\n",
    "        small_and_nuclear_residues_indexes.append(i)\n",
    "        \n",
    "    if any(res == 7 for res in encoded_seq): # No binding (0) & Small+Nuclear+Metal (7)\n",
    "        metal_small_and_nuclear_residues_indexes.append(i)"
   ]
  },
  {
   "cell_type": "code",
   "execution_count": 17,
   "id": "bdca681f",
   "metadata": {
    "scrolled": true
   },
   "outputs": [
    {
     "data": {
      "text/plain": [
       "'only_metal_residues_indexes: 364'"
      ]
     },
     "metadata": {},
     "output_type": "display_data"
    },
    {
     "data": {
      "text/plain": [
       "'only_nuclear_residues_indexes: 115'"
      ]
     },
     "metadata": {},
     "output_type": "display_data"
    },
    {
     "data": {
      "text/plain": [
       "'only_small_residues_indexes: 631'"
      ]
     },
     "metadata": {},
     "output_type": "display_data"
    },
    {
     "data": {
      "text/plain": [
       "'metal_and_nuclear_residues_indexes: 32'"
      ]
     },
     "metadata": {},
     "output_type": "display_data"
    },
    {
     "data": {
      "text/plain": [
       "'small_and_metal_residues_indexes: 134'"
      ]
     },
     "metadata": {},
     "output_type": "display_data"
    },
    {
     "data": {
      "text/plain": [
       "'small_and_nuclear_residues_indexes: 21'"
      ]
     },
     "metadata": {},
     "output_type": "display_data"
    },
    {
     "data": {
      "text/plain": [
       "'metal_small_and_nuclear_residues_indexes: 7'"
      ]
     },
     "metadata": {},
     "output_type": "display_data"
    }
   ],
   "source": [
    "display(\"only_metal_residues_indexes\" + \": \" + str(len(only_metal_residues_indexes)))\n",
    "display(\"only_nuclear_residues_indexes\" + \": \" + str(len(only_nuclear_residues_indexes)))\n",
    "display(\"only_small_residues_indexes\" + \": \" + str(len(only_small_residues_indexes)))\n",
    "\n",
    "display(\"metal_and_nuclear_residues_indexes\" + \": \" + str(len(metal_and_nuclear_residues_indexes)))\n",
    "display(\"small_and_metal_residues_indexes\" + \": \" + str(len(small_and_metal_residues_indexes)))\n",
    "display(\"small_and_nuclear_residues_indexes\" + \": \" + str(len(small_and_nuclear_residues_indexes)))\n",
    "display(\"metal_small_and_nuclear_residues_indexes\" + \": \" + str(len(metal_small_and_nuclear_residues_indexes)))"
   ]
  },
  {
   "cell_type": "code",
   "execution_count": 18,
   "id": "3bcaadb7",
   "metadata": {},
   "outputs": [
    {
     "data": {
      "text/plain": [
       "73"
      ]
     },
     "execution_count": 18,
     "metadata": {},
     "output_type": "execute_result"
    }
   ],
   "source": [
    "# As we are considering proteins with residues with ONLY ONE type of ligand \n",
    "# and proteins with residues with more than one type of ligand, we are losing proteins\n",
    "# For example the protein 4, which has residues with metal ligands and residues with small residues\n",
    "indexes = set(only_metal_residues_indexes).union(set(only_nuclear_residues_indexes)) \\\n",
    "    .union(set(only_small_residues_indexes)) \\\n",
    "   .union(set(metal_and_nuclear_residues_indexes)) \\\n",
    "   .union(set(small_and_metal_residues_indexes)) \\\n",
    "   .union(set(small_and_nuclear_residues_indexes)) \\\n",
    "   .union(set(metal_small_and_nuclear_residues_indexes))\n",
    "\n",
    "notIncluded = []\n",
    "for i in range(len(full_set)):\n",
    "    if i not in indexes:\n",
    "        notIncluded.append(i)\n",
    "\n",
    "len(notIncluded)"
   ]
  },
  {
   "cell_type": "code",
   "execution_count": 19,
   "id": "9cdaa760",
   "metadata": {},
   "outputs": [
    {
     "data": {
      "text/plain": [
       "'[4, 35, 53, 70, 105, 108, 113, 145, 150, 161, 166, 205, 216, 246, 282, 370, 385, 397, 415, 465, 482, 500, 539, 552, 575, 654, 681, 682, 733, 748, 775, 778, 785, 796, 801, 812, 860, 872, 889, 892, 897, 901, 902, 934, 969, 1037, 1053, 1066, 1103, 1127, 1133, 1140, 1141, 1145, 1154, 1159, 1162, 1170, 1199, 1200, 1234, 1242, 1244, 1248, 1257, 1270, 1277, 1279, 1285, 1302, 1311, 1329, 1345]'"
      ]
     },
     "execution_count": 19,
     "metadata": {},
     "output_type": "execute_result"
    }
   ],
   "source": [
    "# We lose 73/1360 proteins\n",
    "str(notIncluded)"
   ]
  },
  {
   "cell_type": "markdown",
   "id": "c82b2210",
   "metadata": {},
   "source": [
    "# Splits working at protein-level"
   ]
  },
  {
   "cell_type": "code",
   "execution_count": 20,
   "id": "edd172aa",
   "metadata": {},
   "outputs": [],
   "source": [
    "# Let's save all proteins used in the different splits in a sequences.fasta file\n",
    "with open(split_path / 'splits' / 'sequences.fasta', 'w') as sequences_file:\n",
    "    for index, row in full_set_encoded.iterrows():\n",
    "        sequences_file.write('>{}\\n'.format(row['id']))\n",
    "        sequences_file.write('{}\\n'.format(row['sequence']))"
   ]
  },
  {
   "cell_type": "markdown",
   "id": "28c3c6b7",
   "metadata": {},
   "source": [
    "## one_vs_many"
   ]
  },
  {
   "cell_type": "code",
   "execution_count": 21,
   "id": "c68e852e",
   "metadata": {},
   "outputs": [],
   "source": [
    "one_vs_many = DataFrame(columns = [\"id\", \"encoding\", \"set\", \"validation\"])\n",
    "\n",
    "# Training set\n",
    "tmp = full_set_encoded.iloc[one_ligand_indexes][[\"id\", \"encoding\"]]\n",
    "tmp.insert(2, \"set\", [\"train\"]*len(full_set_encoded.iloc[one_ligand_indexes]))\n",
    "one_vs_many = one_vs_many.append(tmp)\n",
    "\n",
    "# Validation set \n",
    "val_sample_indexs = list(one_vs_many.sample(frac=0.1, random_state=1234).index)\n",
    "validation = [True if i in val_sample_indexs else NaN for i in one_vs_many.index]\n",
    "one_vs_many.validation = validation\n",
    "\n",
    "# Test set\n",
    "tmp = full_set_encoded.iloc[two_ligand_indexes].append(full_set_encoded.iloc[three_ligand_indexes])[[\"id\", \"encoding\"]]\n",
    "tmp.insert(2, \"set\", [\"test\"]*len(tmp))\n",
    "one_vs_many = one_vs_many.append(tmp)\n",
    "\n",
    "# Target to str\n",
    "one_vs_many[\"encoding\"] = one_vs_many[\"encoding\"].apply(lambda x: ''.join(map(str, x)))\n",
    "\n",
    "one_vs_many = one_vs_many.reset_index()\n",
    "one_vs_many.drop([\"index\"], axis=1, inplace=True)"
   ]
  },
  {
   "cell_type": "code",
   "execution_count": 22,
   "id": "a5325ff7",
   "metadata": {},
   "outputs": [
    {
     "data": {
      "text/html": [
       "<div>\n",
       "<style scoped>\n",
       "    .dataframe tbody tr th:only-of-type {\n",
       "        vertical-align: middle;\n",
       "    }\n",
       "\n",
       "    .dataframe tbody tr th {\n",
       "        vertical-align: top;\n",
       "    }\n",
       "\n",
       "    .dataframe thead th {\n",
       "        text-align: right;\n",
       "    }\n",
       "</style>\n",
       "<table border=\"1\" class=\"dataframe\">\n",
       "  <thead>\n",
       "    <tr style=\"text-align: right;\">\n",
       "      <th></th>\n",
       "      <th>id</th>\n",
       "      <th>encoding</th>\n",
       "      <th>set</th>\n",
       "      <th>validation</th>\n",
       "    </tr>\n",
       "  </thead>\n",
       "  <tbody>\n",
       "    <tr>\n",
       "      <th>0</th>\n",
       "      <td>Q5LL55</td>\n",
       "      <td>0000000000000000000004004400404404000044044004...</td>\n",
       "      <td>train</td>\n",
       "      <td>NaN</td>\n",
       "    </tr>\n",
       "    <tr>\n",
       "      <th>1</th>\n",
       "      <td>H9L4N9</td>\n",
       "      <td>0000000000000000000000000000000000000000010000...</td>\n",
       "      <td>train</td>\n",
       "      <td>NaN</td>\n",
       "    </tr>\n",
       "    <tr>\n",
       "      <th>2</th>\n",
       "      <td>O34738</td>\n",
       "      <td>0000000000000000000000400040000000000000040004...</td>\n",
       "      <td>train</td>\n",
       "      <td>NaN</td>\n",
       "    </tr>\n",
       "    <tr>\n",
       "      <th>3</th>\n",
       "      <td>P39579</td>\n",
       "      <td>0000000000000000000000000000000000044004000000...</td>\n",
       "      <td>train</td>\n",
       "      <td>NaN</td>\n",
       "    </tr>\n",
       "    <tr>\n",
       "      <th>4</th>\n",
       "      <td>O32221</td>\n",
       "      <td>0000000000011011000000000000000000000000000000...</td>\n",
       "      <td>train</td>\n",
       "      <td>NaN</td>\n",
       "    </tr>\n",
       "    <tr>\n",
       "      <th>...</th>\n",
       "      <td>...</td>\n",
       "      <td>...</td>\n",
       "      <td>...</td>\n",
       "      <td>...</td>\n",
       "    </tr>\n",
       "    <tr>\n",
       "      <th>1355</th>\n",
       "      <td>P0A988</td>\n",
       "      <td>0000110310220000001000044400000100000000000001...</td>\n",
       "      <td>test</td>\n",
       "      <td>NaN</td>\n",
       "    </tr>\n",
       "    <tr>\n",
       "      <th>1356</th>\n",
       "      <td>Q6NS38</td>\n",
       "      <td>0000000000000000000000000000000000000000000000...</td>\n",
       "      <td>test</td>\n",
       "      <td>NaN</td>\n",
       "    </tr>\n",
       "    <tr>\n",
       "      <th>1357</th>\n",
       "      <td>P03697</td>\n",
       "      <td>0000000000000000400000062046000066600000022222...</td>\n",
       "      <td>test</td>\n",
       "      <td>NaN</td>\n",
       "    </tr>\n",
       "    <tr>\n",
       "      <th>1358</th>\n",
       "      <td>O74859</td>\n",
       "      <td>0000000000000000000000000000000002000400400000...</td>\n",
       "      <td>test</td>\n",
       "      <td>NaN</td>\n",
       "    </tr>\n",
       "    <tr>\n",
       "      <th>1359</th>\n",
       "      <td>P0A776</td>\n",
       "      <td>0000000200000000000000000060020202007360000000...</td>\n",
       "      <td>test</td>\n",
       "      <td>NaN</td>\n",
       "    </tr>\n",
       "  </tbody>\n",
       "</table>\n",
       "<p>1360 rows × 4 columns</p>\n",
       "</div>"
      ],
      "text/plain": [
       "          id                                           encoding    set  \\\n",
       "0     Q5LL55  0000000000000000000004004400404404000044044004...  train   \n",
       "1     H9L4N9  0000000000000000000000000000000000000000010000...  train   \n",
       "2     O34738  0000000000000000000000400040000000000000040004...  train   \n",
       "3     P39579  0000000000000000000000000000000000044004000000...  train   \n",
       "4     O32221  0000000000011011000000000000000000000000000000...  train   \n",
       "...      ...                                                ...    ...   \n",
       "1355  P0A988  0000110310220000001000044400000100000000000001...   test   \n",
       "1356  Q6NS38  0000000000000000000000000000000000000000000000...   test   \n",
       "1357  P03697  0000000000000000400000062046000066600000022222...   test   \n",
       "1358  O74859  0000000000000000000000000000000002000400400000...   test   \n",
       "1359  P0A776  0000000200000000000000000060020202007360000000...   test   \n",
       "\n",
       "     validation  \n",
       "0           NaN  \n",
       "1           NaN  \n",
       "2           NaN  \n",
       "3           NaN  \n",
       "4           NaN  \n",
       "...         ...  \n",
       "1355        NaN  \n",
       "1356        NaN  \n",
       "1357        NaN  \n",
       "1358        NaN  \n",
       "1359        NaN  \n",
       "\n",
       "[1360 rows x 4 columns]"
      ]
     },
     "execution_count": 22,
     "metadata": {},
     "output_type": "execute_result"
    }
   ],
   "source": [
    "one_vs_many"
   ]
  },
  {
   "cell_type": "code",
   "execution_count": 23,
   "id": "236ff4bb",
   "metadata": {},
   "outputs": [],
   "source": [
    "with open(split_path / 'splits' / 'one_vs_many.fasta', 'w') as one_vs_many_file:\n",
    "    for index, row in one_vs_many.iterrows():\n",
    "        validation = 'True' if row['validation'] == True else 'False'\n",
    "        one_vs_many_file.write('>{}\\n'.format('{} SET={} VALIDATION={}'.format(row['id'], row['set'], validation)))\n",
    "        one_vs_many_file.write('{}\\n'.format(row['encoding']))"
   ]
  },
  {
   "cell_type": "markdown",
   "id": "9f9b650a",
   "metadata": {},
   "source": [
    "## two_vs_many"
   ]
  },
  {
   "cell_type": "code",
   "execution_count": 24,
   "id": "d51deed2",
   "metadata": {},
   "outputs": [],
   "source": [
    "two_vs_many = DataFrame(columns = [\"id\", \"encoding\", \"set\", \"validation\"])\n",
    "\n",
    "# Training set\n",
    "tmp = full_set_encoded.iloc[one_ligand_indexes][[\"id\", \"encoding\"]]\n",
    "tmp.insert(2, \"set\", [\"train\"]*len(full_set_encoded.iloc[one_ligand_indexes]))\n",
    "two_vs_many = two_vs_many.append(tmp)\n",
    "\n",
    "tmp = full_set_encoded.iloc[two_ligand_indexes][[\"id\", \"encoding\"]]\n",
    "tmp.insert(2, \"set\", [\"train\"]*len(full_set_encoded.iloc[two_ligand_indexes]))\n",
    "two_vs_many = two_vs_many.append(tmp)\n",
    "\n",
    "# Validation set \n",
    "val_sample_indexs = list(two_vs_many.sample(frac=0.1, random_state=1234).index)\n",
    "validation = [True if i in val_sample_indexs else NaN for i in two_vs_many.index]\n",
    "two_vs_many.validation = validation\n",
    "\n",
    "# Test set\n",
    "tmp = full_set_encoded.iloc[three_ligand_indexes][[\"id\", \"encoding\"]]\n",
    "tmp.insert(2, \"set\", [\"test\"]*len(tmp))\n",
    "two_vs_many = two_vs_many.append(tmp)\n",
    "\n",
    "# Target to str\n",
    "two_vs_many[\"encoding\"] = two_vs_many[\"encoding\"].apply(lambda x: ''.join(map(str, x)))\n",
    "\n",
    "two_vs_many = two_vs_many.reset_index()\n",
    "two_vs_many.drop([\"index\"], axis=1, inplace=True)"
   ]
  },
  {
   "cell_type": "code",
   "execution_count": 25,
   "id": "f7d2f1e3",
   "metadata": {},
   "outputs": [
    {
     "data": {
      "text/html": [
       "<div>\n",
       "<style scoped>\n",
       "    .dataframe tbody tr th:only-of-type {\n",
       "        vertical-align: middle;\n",
       "    }\n",
       "\n",
       "    .dataframe tbody tr th {\n",
       "        vertical-align: top;\n",
       "    }\n",
       "\n",
       "    .dataframe thead th {\n",
       "        text-align: right;\n",
       "    }\n",
       "</style>\n",
       "<table border=\"1\" class=\"dataframe\">\n",
       "  <thead>\n",
       "    <tr style=\"text-align: right;\">\n",
       "      <th></th>\n",
       "      <th>id</th>\n",
       "      <th>encoding</th>\n",
       "      <th>set</th>\n",
       "      <th>validation</th>\n",
       "    </tr>\n",
       "  </thead>\n",
       "  <tbody>\n",
       "    <tr>\n",
       "      <th>0</th>\n",
       "      <td>Q5LL55</td>\n",
       "      <td>0000000000000000000004004400404404000044044004...</td>\n",
       "      <td>train</td>\n",
       "      <td>True</td>\n",
       "    </tr>\n",
       "    <tr>\n",
       "      <th>1</th>\n",
       "      <td>H9L4N9</td>\n",
       "      <td>0000000000000000000000000000000000000000010000...</td>\n",
       "      <td>train</td>\n",
       "      <td>NaN</td>\n",
       "    </tr>\n",
       "    <tr>\n",
       "      <th>2</th>\n",
       "      <td>O34738</td>\n",
       "      <td>0000000000000000000000400040000000000000040004...</td>\n",
       "      <td>train</td>\n",
       "      <td>NaN</td>\n",
       "    </tr>\n",
       "    <tr>\n",
       "      <th>3</th>\n",
       "      <td>P39579</td>\n",
       "      <td>0000000000000000000000000000000000044004000000...</td>\n",
       "      <td>train</td>\n",
       "      <td>NaN</td>\n",
       "    </tr>\n",
       "    <tr>\n",
       "      <th>4</th>\n",
       "      <td>O32221</td>\n",
       "      <td>0000000000011011000000000000000000000000000000...</td>\n",
       "      <td>train</td>\n",
       "      <td>NaN</td>\n",
       "    </tr>\n",
       "    <tr>\n",
       "      <th>...</th>\n",
       "      <td>...</td>\n",
       "      <td>...</td>\n",
       "      <td>...</td>\n",
       "      <td>...</td>\n",
       "    </tr>\n",
       "    <tr>\n",
       "      <th>1355</th>\n",
       "      <td>P0A988</td>\n",
       "      <td>0000110310220000001000044400000100000000000001...</td>\n",
       "      <td>test</td>\n",
       "      <td>NaN</td>\n",
       "    </tr>\n",
       "    <tr>\n",
       "      <th>1356</th>\n",
       "      <td>Q6NS38</td>\n",
       "      <td>0000000000000000000000000000000000000000000000...</td>\n",
       "      <td>test</td>\n",
       "      <td>NaN</td>\n",
       "    </tr>\n",
       "    <tr>\n",
       "      <th>1357</th>\n",
       "      <td>P03697</td>\n",
       "      <td>0000000000000000400000062046000066600000022222...</td>\n",
       "      <td>test</td>\n",
       "      <td>NaN</td>\n",
       "    </tr>\n",
       "    <tr>\n",
       "      <th>1358</th>\n",
       "      <td>O74859</td>\n",
       "      <td>0000000000000000000000000000000002000400400000...</td>\n",
       "      <td>test</td>\n",
       "      <td>NaN</td>\n",
       "    </tr>\n",
       "    <tr>\n",
       "      <th>1359</th>\n",
       "      <td>P0A776</td>\n",
       "      <td>0000000200000000000000000060020202007360000000...</td>\n",
       "      <td>test</td>\n",
       "      <td>NaN</td>\n",
       "    </tr>\n",
       "  </tbody>\n",
       "</table>\n",
       "<p>1360 rows × 4 columns</p>\n",
       "</div>"
      ],
      "text/plain": [
       "          id                                           encoding    set  \\\n",
       "0     Q5LL55  0000000000000000000004004400404404000044044004...  train   \n",
       "1     H9L4N9  0000000000000000000000000000000000000000010000...  train   \n",
       "2     O34738  0000000000000000000000400040000000000000040004...  train   \n",
       "3     P39579  0000000000000000000000000000000000044004000000...  train   \n",
       "4     O32221  0000000000011011000000000000000000000000000000...  train   \n",
       "...      ...                                                ...    ...   \n",
       "1355  P0A988  0000110310220000001000044400000100000000000001...   test   \n",
       "1356  Q6NS38  0000000000000000000000000000000000000000000000...   test   \n",
       "1357  P03697  0000000000000000400000062046000066600000022222...   test   \n",
       "1358  O74859  0000000000000000000000000000000002000400400000...   test   \n",
       "1359  P0A776  0000000200000000000000000060020202007360000000...   test   \n",
       "\n",
       "     validation  \n",
       "0          True  \n",
       "1           NaN  \n",
       "2           NaN  \n",
       "3           NaN  \n",
       "4           NaN  \n",
       "...         ...  \n",
       "1355        NaN  \n",
       "1356        NaN  \n",
       "1357        NaN  \n",
       "1358        NaN  \n",
       "1359        NaN  \n",
       "\n",
       "[1360 rows x 4 columns]"
      ]
     },
     "execution_count": 25,
     "metadata": {},
     "output_type": "execute_result"
    }
   ],
   "source": [
    "two_vs_many"
   ]
  },
  {
   "cell_type": "code",
   "execution_count": 26,
   "id": "fe41b4e8",
   "metadata": {},
   "outputs": [],
   "source": [
    "with open(split_path / 'splits' / 'two_vs_many.fasta', 'w') as two_vs_many_file:\n",
    "    for index, row in two_vs_many.iterrows():\n",
    "        validation = 'True' if row['validation'] == True else 'False'\n",
    "        two_vs_many_file.write('>{}\\n'.format('{} SET={} VALIDATION={}'.format(row['id'], row['set'], validation)))\n",
    "        two_vs_many_file.write('{}\\n'.format(row['encoding']))"
   ]
  },
  {
   "cell_type": "markdown",
   "id": "a7f28b90",
   "metadata": {},
   "source": [
    "## from_publication"
   ]
  },
  {
   "cell_type": "code",
   "execution_count": 27,
   "id": "a6bc1903",
   "metadata": {},
   "outputs": [],
   "source": [
    "from_publication = full_set_encoded[[\"id\", \"encoding\", \"set\"]]\n",
    "\n",
    "# Let's specify validation set\n",
    "val_sample_indexs = list(from_publication.query(\"set == 'train'\").sample(frac=0.1, random_state=1234).index)\n",
    "validation = [True if i in val_sample_indexs else NaN for i in from_publication.index]\n",
    "from_publication.insert(2, \"validation\", validation)\n",
    "\n",
    "# Target to str\n",
    "from_publication[\"encoding\"] = from_publication[\"encoding\"].apply(lambda x: ''.join(map(str, x)))\n",
    "\n",
    "from_publication = from_publication.reset_index()\n",
    "from_publication.drop([\"index\"], axis=1, inplace=True)"
   ]
  },
  {
   "cell_type": "code",
   "execution_count": 28,
   "id": "2b471623",
   "metadata": {},
   "outputs": [
    {
     "data": {
      "text/html": [
       "<div>\n",
       "<style scoped>\n",
       "    .dataframe tbody tr th:only-of-type {\n",
       "        vertical-align: middle;\n",
       "    }\n",
       "\n",
       "    .dataframe tbody tr th {\n",
       "        vertical-align: top;\n",
       "    }\n",
       "\n",
       "    .dataframe thead th {\n",
       "        text-align: right;\n",
       "    }\n",
       "</style>\n",
       "<table border=\"1\" class=\"dataframe\">\n",
       "  <thead>\n",
       "    <tr style=\"text-align: right;\">\n",
       "      <th></th>\n",
       "      <th>id</th>\n",
       "      <th>encoding</th>\n",
       "      <th>validation</th>\n",
       "      <th>set</th>\n",
       "    </tr>\n",
       "  </thead>\n",
       "  <tbody>\n",
       "    <tr>\n",
       "      <th>0</th>\n",
       "      <td>Q5LL55</td>\n",
       "      <td>0000000000000000000004004400404404000044044004...</td>\n",
       "      <td>NaN</td>\n",
       "      <td>train</td>\n",
       "    </tr>\n",
       "    <tr>\n",
       "      <th>1</th>\n",
       "      <td>H9L4N9</td>\n",
       "      <td>0000000000000000000000000000000000000000010000...</td>\n",
       "      <td>NaN</td>\n",
       "      <td>train</td>\n",
       "    </tr>\n",
       "    <tr>\n",
       "      <th>2</th>\n",
       "      <td>O34738</td>\n",
       "      <td>0000000000000000000000400040000000000000040004...</td>\n",
       "      <td>NaN</td>\n",
       "      <td>train</td>\n",
       "    </tr>\n",
       "    <tr>\n",
       "      <th>3</th>\n",
       "      <td>P39579</td>\n",
       "      <td>0000000000000000000000000000000000044004000000...</td>\n",
       "      <td>NaN</td>\n",
       "      <td>train</td>\n",
       "    </tr>\n",
       "    <tr>\n",
       "      <th>4</th>\n",
       "      <td>P01887</td>\n",
       "      <td>0000000000000000000000000000040000000000000000...</td>\n",
       "      <td>NaN</td>\n",
       "      <td>train</td>\n",
       "    </tr>\n",
       "    <tr>\n",
       "      <th>...</th>\n",
       "      <td>...</td>\n",
       "      <td>...</td>\n",
       "      <td>...</td>\n",
       "      <td>...</td>\n",
       "    </tr>\n",
       "    <tr>\n",
       "      <th>1355</th>\n",
       "      <td>Q9KDJ7</td>\n",
       "      <td>0000000000000000000000000000000000000000000000...</td>\n",
       "      <td>NaN</td>\n",
       "      <td>train</td>\n",
       "    </tr>\n",
       "    <tr>\n",
       "      <th>1356</th>\n",
       "      <td>Q9LFM3</td>\n",
       "      <td>0000000000000000000000000000000000000000000000...</td>\n",
       "      <td>NaN</td>\n",
       "      <td>train</td>\n",
       "    </tr>\n",
       "    <tr>\n",
       "      <th>1357</th>\n",
       "      <td>Q9SJ89</td>\n",
       "      <td>0000000000000000000000000000000000000000000000...</td>\n",
       "      <td>NaN</td>\n",
       "      <td>train</td>\n",
       "    </tr>\n",
       "    <tr>\n",
       "      <th>1358</th>\n",
       "      <td>U2EQ00</td>\n",
       "      <td>0000000000004004000000004440400040040044004400...</td>\n",
       "      <td>NaN</td>\n",
       "      <td>train</td>\n",
       "    </tr>\n",
       "    <tr>\n",
       "      <th>1359</th>\n",
       "      <td>X2D812</td>\n",
       "      <td>0000000000000000000000000000000000000000000000...</td>\n",
       "      <td>NaN</td>\n",
       "      <td>train</td>\n",
       "    </tr>\n",
       "  </tbody>\n",
       "</table>\n",
       "<p>1360 rows × 4 columns</p>\n",
       "</div>"
      ],
      "text/plain": [
       "          id                                           encoding validation  \\\n",
       "0     Q5LL55  0000000000000000000004004400404404000044044004...        NaN   \n",
       "1     H9L4N9  0000000000000000000000000000000000000000010000...        NaN   \n",
       "2     O34738  0000000000000000000000400040000000000000040004...        NaN   \n",
       "3     P39579  0000000000000000000000000000000000044004000000...        NaN   \n",
       "4     P01887  0000000000000000000000000000040000000000000000...        NaN   \n",
       "...      ...                                                ...        ...   \n",
       "1355  Q9KDJ7  0000000000000000000000000000000000000000000000...        NaN   \n",
       "1356  Q9LFM3  0000000000000000000000000000000000000000000000...        NaN   \n",
       "1357  Q9SJ89  0000000000000000000000000000000000000000000000...        NaN   \n",
       "1358  U2EQ00  0000000000004004000000004440400040040044004400...        NaN   \n",
       "1359  X2D812  0000000000000000000000000000000000000000000000...        NaN   \n",
       "\n",
       "        set  \n",
       "0     train  \n",
       "1     train  \n",
       "2     train  \n",
       "3     train  \n",
       "4     train  \n",
       "...     ...  \n",
       "1355  train  \n",
       "1356  train  \n",
       "1357  train  \n",
       "1358  train  \n",
       "1359  train  \n",
       "\n",
       "[1360 rows x 4 columns]"
      ]
     },
     "execution_count": 28,
     "metadata": {},
     "output_type": "execute_result"
    }
   ],
   "source": [
    "from_publication"
   ]
  },
  {
   "cell_type": "code",
   "execution_count": 29,
   "id": "e7a4389d",
   "metadata": {},
   "outputs": [],
   "source": [
    "with open(split_path / 'splits' / 'from_publication.fasta', 'w') as from_publication_file:\n",
    "    for index, row in from_publication.iterrows():\n",
    "        validation = 'True' if row['validation'] == True else 'False'\n",
    "        from_publication_file.write('>{}\\n'.format('{} SET={} VALIDATION={}'.format(row['id'], row['set'], validation)))\n",
    "        from_publication_file.write('{}\\n'.format(row['encoding']))"
   ]
  },
  {
   "cell_type": "markdown",
   "id": "310e557c",
   "metadata": {},
   "source": [
    "# Splits working at residue-level"
   ]
  },
  {
   "cell_type": "markdown",
   "id": "9a04115f",
   "metadata": {},
   "source": [
    "We train with\n",
    "- Proteins with only residues with metal ligand: 364\n",
    "- Proteins with only residues with nuclear ligand: 115\n",
    "- Proteins with only residues with small ligand: 631\n",
    "\n",
    "Options for multiclass testing:\n",
    "- M+N: 32 <- Reduce the training set to (M) 364/3, (N) 115/3 and (S) 631/5 => 32/(364/3+115/3+631/5) $\\approx$ 11% (test)\n",
    "- S+M: 134 <-- Used as it is because 134/(364+115+631) $\\approx$ 12% (test)\n",
    "- S+N: 21 <-- Reduce the training set to (M) 364/6, (N) 115/4, (S) 631/6 => 21/(364/6+115/4+631/6) $\\approx$ 11% (test)\n",
    "- S+M+N: 7 <-- Discarded because it only has 7 proteins."
   ]
  },
  {
   "cell_type": "code",
   "execution_count": 30,
   "id": "a3c65d6b",
   "metadata": {},
   "outputs": [],
   "source": [
    "# We have the same training for all the splits from here\n",
    "# Training\n",
    "trainingIndexes = only_metal_residues_indexes + only_nuclear_residues_indexes + only_small_residues_indexes\n",
    "training = full_set_encoded.iloc[trainingIndexes][[\"id\", \"encoding\"]]\n",
    "training.insert(2, \"set\", [\"train\"]*len(trainingIndexes))"
   ]
  },
  {
   "cell_type": "markdown",
   "id": "569457fe",
   "metadata": {},
   "source": [
    "## one_vs_sm"
   ]
  },
  {
   "cell_type": "code",
   "execution_count": 31,
   "id": "279d102c",
   "metadata": {},
   "outputs": [],
   "source": [
    "one_vs_sm = DataFrame(columns = [\"id\", \"encoding\", \"set\", \"validation\"])\n",
    "\n",
    "# Training\n",
    "one_vs_sm = one_vs_sm.append(training)\n",
    "\n",
    "# Validation\n",
    "val_sample_indexs = list(training.sample(frac=0.1, random_state=1234).index)\n",
    "validation = [True if i in val_sample_indexs else NaN for i in training.index]\n",
    "one_vs_sm.validation = validation\n",
    "\n",
    "# Test\n",
    "sm = full_set_encoded.iloc[small_and_metal_residues_indexes][[\"id\", \"encoding\"]]\n",
    "sm.insert(2, \"set\", [\"test\"]*len(small_and_metal_residues_indexes))\n",
    "one_vs_sm = one_vs_sm.append(sm)\n",
    "\n",
    "# Target to str\n",
    "one_vs_sm[\"encoding\"] = one_vs_sm[\"encoding\"].apply(lambda x: ''.join(map(str, x)))"
   ]
  },
  {
   "cell_type": "code",
   "execution_count": 32,
   "id": "c29185ae",
   "metadata": {},
   "outputs": [],
   "source": [
    "with open(split_path / 'splits' / 'one_vs_sm.fasta', 'w') as one_vs_sm_file:\n",
    "    for index, row in one_vs_sm.iterrows():\n",
    "        validation = 'True' if row['validation'] == True else 'False'\n",
    "        one_vs_sm_file.write('>{}\\n'.format('{} SET={} VALIDATION={}'.format(row['id'], row['set'], validation)))\n",
    "        one_vs_sm_file.write('{}\\n'.format(row['encoding']))"
   ]
  },
  {
   "cell_type": "markdown",
   "id": "ff6346f4",
   "metadata": {},
   "source": [
    "## one_vs_mn"
   ]
  },
  {
   "cell_type": "code",
   "execution_count": 33,
   "id": "8f6b6947",
   "metadata": {},
   "outputs": [],
   "source": [
    "one_vs_mn = DataFrame(columns = [\"id\", \"encoding\", \"set\", \"validation\"])\n",
    "\n",
    "# Training\n",
    "subsample_m = full_set_encoded.iloc[only_metal_residues_indexes].sample(n=int(len(only_metal_residues_indexes)/3), random_state=1234)\n",
    "subsample_n = full_set_encoded.iloc[only_nuclear_residues_indexes].sample(n=int(len(only_nuclear_residues_indexes)/3), random_state=1234)\n",
    "subsample_s = full_set_encoded.iloc[only_small_residues_indexes].sample(n=int(len(only_small_residues_indexes)/5), random_state=1234)\n",
    "training = subsample_m.append(subsample_n).append(subsample_s)[[\"id\", \"encoding\"]]\n",
    "training.insert(2, \"set\", [\"train\"]*len(training))\n",
    "one_vs_mn = one_vs_mn.append(training)\n",
    "\n",
    "# Validation\n",
    "val_sample_indexs = list(training.sample(n=int(0.10*(len(training)+len(metal_and_nuclear_residues_indexes))), random_state=1234).index)\n",
    "validation = [True if i in val_sample_indexs else NaN for i in training.index]\n",
    "one_vs_mn.validation = validation\n",
    "\n",
    "\n",
    "# Test\n",
    "mn = full_set_encoded.iloc[metal_and_nuclear_residues_indexes][[\"id\", \"encoding\"]]\n",
    "mn.insert(2, \"set\", [\"test\"]*len(metal_and_nuclear_residues_indexes))\n",
    "one_vs_mn = one_vs_mn.append(mn)\n",
    "\n",
    "# Target to str\n",
    "one_vs_mn[\"encoding\"] = one_vs_mn[\"encoding\"].apply(lambda x: ''.join(map(str, x)))"
   ]
  },
  {
   "cell_type": "code",
   "execution_count": 34,
   "id": "20936da4",
   "metadata": {},
   "outputs": [],
   "source": [
    "with open(split_path / 'splits' / 'one_vs_mn.fasta', 'w') as one_vs_mn_file:\n",
    "    for index, row in one_vs_mn.iterrows():\n",
    "        validation = 'True' if row['validation'] == True else 'False'\n",
    "        one_vs_mn_file.write('>{}\\n'.format('{} SET={} VALIDATION={}'.format(row['id'], row['set'], validation)))\n",
    "        one_vs_mn_file.write('{}\\n'.format(row['encoding']))"
   ]
  },
  {
   "cell_type": "markdown",
   "id": "ab4b5721",
   "metadata": {},
   "source": [
    "## one_vs_sn"
   ]
  },
  {
   "cell_type": "code",
   "execution_count": 35,
   "id": "de82beb3",
   "metadata": {},
   "outputs": [],
   "source": [
    "one_vs_sn = DataFrame(columns = [\"id\", \"encoding\", \"set\", \"validation\"])\n",
    "\n",
    "# Training\n",
    "subsample_m = full_set_encoded.iloc[only_metal_residues_indexes].sample(n=int(len(only_metal_residues_indexes)/6), random_state=1234)\n",
    "subsample_n = full_set_encoded.iloc[only_nuclear_residues_indexes].sample(n=int(len(only_nuclear_residues_indexes)/4), random_state=1234)\n",
    "subsample_s = full_set_encoded.iloc[only_small_residues_indexes].sample(n=int(len(only_small_residues_indexes)/6), random_state=1234)\n",
    "training = subsample_m.append(subsample_n).append(subsample_s)[[\"id\", \"encoding\"]]\n",
    "training.insert(2, \"set\", [\"train\"]*len(training))\n",
    "one_vs_sn = one_vs_sn.append(training)\n",
    "\n",
    "# Validation\n",
    "val_sample_indexs = list(training.sample(n=int(0.10*(len(training)+len(small_and_nuclear_residues_indexes))), random_state=1234).index)\n",
    "validation = [True if i in val_sample_indexs else NaN for i in training.index]\n",
    "one_vs_sn.validation = validation\n",
    "\n",
    "# Test\n",
    "sn = full_set_encoded.iloc[small_and_nuclear_residues_indexes][[\"id\", \"encoding\"]]\n",
    "sn.insert(2, \"set\", [\"test\"]*len(small_and_nuclear_residues_indexes))\n",
    "one_vs_sn = one_vs_mn.append(sn)\n",
    "\n",
    "# Target to str\n",
    "one_vs_sn[\"encoding\"] = one_vs_sn[\"encoding\"].apply(lambda x: ''.join(map(str, x)))"
   ]
  },
  {
   "cell_type": "code",
   "execution_count": 36,
   "id": "30d90cc7",
   "metadata": {},
   "outputs": [],
   "source": [
    "with open(split_path / 'splits' / 'one_vs_sn.fasta', 'w') as one_vs_sn_file:\n",
    "    for index, row in one_vs_sn.iterrows():\n",
    "        validation = 'True' if row['validation'] == True else 'False'\n",
    "        one_vs_sn_file.write('>{}\\n'.format('{} SET={} VALIDATION={}'.format(row['id'], row['set'], validation)))\n",
    "        one_vs_sn_file.write('{}\\n'.format(row['encoding']))"
   ]
  },
  {
   "cell_type": "code",
   "execution_count": null,
   "id": "fcfe1d54",
   "metadata": {},
   "outputs": [],
   "source": []
  }
 ],
 "metadata": {
  "kernelspec": {
   "display_name": "Python 3 (ipykernel)",
   "language": "python",
   "name": "python3"
  },
  "language_info": {
   "codemirror_mode": {
    "name": "ipython",
    "version": 3
   },
   "file_extension": ".py",
   "mimetype": "text/x-python",
   "name": "python",
   "nbconvert_exporter": "python",
   "pygments_lexer": "ipython3",
   "version": "3.8.13"
  }
 },
 "nbformat": 4,
 "nbformat_minor": 5
}
